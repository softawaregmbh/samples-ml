{
 "cells": [
  {
   "cell_type": "markdown",
   "metadata": {},
   "source": [
    "# Using regression algorithms with ML.NET"
   ]
  },
  {
   "cell_type": "markdown",
   "metadata": {},
   "source": [
    "### Install NuGet-Packages\n",
    "_The Microsoft.ML.FastTree package has to be the very first in the jupyter notebook due to a bug in dotnet test. See https://github.com/dotnet/interactive/issues/55._"
   ]
  },
  {
   "cell_type": "code",
   "execution_count": null,
   "metadata": {},
   "outputs": [],
   "source": [
    "#r \"nuget:Microsoft.ML.FastTree,1.4.0\""
   ]
  },
  {
   "cell_type": "code",
   "execution_count": null,
   "metadata": {
    "scrolled": false
   },
   "outputs": [],
   "source": [
    "#r \"nuget:Microsoft.Data.Analysis,0.2.0\"\n",
    "#r \"nuget:Microsoft.ML,1.4.0\""
   ]
  },
  {
   "cell_type": "markdown",
   "metadata": {},
   "source": [
    "### Using-Statements and Helper-Methods"
   ]
  },
  {
   "cell_type": "code",
   "execution_count": null,
   "metadata": {},
   "outputs": [],
   "source": [
    "using Microsoft.ML;\n",
    "using Microsoft.ML.Data;\n",
    "using Microsoft.Data.Analysis;\n",
    "using XPlot.Plotly;"
   ]
  },
  {
   "cell_type": "code",
   "execution_count": null,
   "metadata": {},
   "outputs": [],
   "source": [
    "using Microsoft.AspNetCore.Html;\n",
    "Formatter<DataFrame>.Register((df, writer) =>\n",
    "{\n",
    "    var headers = new List<IHtmlContent>();\n",
    "    headers.Add(th(i(\"index\")));\n",
    "    headers.AddRange(df.Columns.Select(c => (IHtmlContent) th(c.Name)));\n",
    "    var rows = new List<List<IHtmlContent>>();\n",
    "    var take = 20;\n",
    "    for (var i = 0; i < Math.Min(take, df.Rows.Count); i++)\n",
    "    {\n",
    "        var cells = new List<IHtmlContent>();\n",
    "        cells.Add(td(i));\n",
    "        foreach (var obj in df.Rows[i])\n",
    "        {\n",
    "            cells.Add(td(obj));\n",
    "        }\n",
    "        rows.Add(cells);\n",
    "    }\n",
    "    \n",
    "    var t = table(\n",
    "        thead(\n",
    "            headers),\n",
    "        tbody(\n",
    "            rows.Select(\n",
    "                r => tr(r))));\n",
    "    \n",
    "    writer.Write(t);\n",
    "}, \"text/html\");"
   ]
  },
  {
   "cell_type": "code",
   "execution_count": null,
   "metadata": {},
   "outputs": [],
   "source": [
    "static void PrintRegressionFoldsAverageMetrics(IEnumerable<TrainCatalogBase.CrossValidationResult<RegressionMetrics>> crossValidationResults)\n",
    "{\n",
    "    var L1 = crossValidationResults.Select(r => r.Metrics.MeanAbsoluteError);\n",
    "    var L2 = crossValidationResults.Select(r => r.Metrics.MeanSquaredError);\n",
    "    var RMS = crossValidationResults.Select(r => r.Metrics.RootMeanSquaredError);\n",
    "    var lossFunction = crossValidationResults.Select(r => r.Metrics.LossFunction);\n",
    "    var R2 = crossValidationResults.Select(r => r.Metrics.RSquared);\n",
    "\n",
    "    Console.WriteLine($\"*************************************************************************************************************\");\n",
    "    Console.WriteLine($\"*       Metrics for Regression model      \");\n",
    "    Console.WriteLine($\"*------------------------------------------------------------------------------------------------------------\");\n",
    "    Console.WriteLine($\"*       Average L1 Loss:       {L1.Average():0.###} \");\n",
    "    Console.WriteLine($\"*       Average L2 Loss:       {L2.Average():0.###}  \");\n",
    "    Console.WriteLine($\"*       Average RMS:           {RMS.Average():0.###}  \");\n",
    "    Console.WriteLine($\"*       Average Loss Function: {lossFunction.Average():0.###}  \");\n",
    "    Console.WriteLine($\"*       Average R-squared:     {R2.Average():0.###}  \");\n",
    "    Console.WriteLine($\"*************************************************************************************************************\");\n",
    "}"
   ]
  },
  {
   "cell_type": "markdown",
   "metadata": {},
   "source": [
    "### Load the data"
   ]
  },
  {
   "cell_type": "code",
   "execution_count": null,
   "metadata": {},
   "outputs": [],
   "source": [
    "%%time\n",
    "\n",
    "string fileName = @\"D:\\softaware\\samples-ml\\data\\calls.csv\";\n",
    "\n",
    "var calls = DataFrame.LoadCsv(fileName);"
   ]
  },
  {
   "cell_type": "markdown",
   "metadata": {},
   "source": [
    "### Analyze the data"
   ]
  },
  {
   "cell_type": "code",
   "execution_count": null,
   "metadata": {},
   "outputs": [],
   "source": [
    "calls"
   ]
  },
  {
   "cell_type": "code",
   "execution_count": null,
   "metadata": {},
   "outputs": [],
   "source": [
    "display(calls[\"Calls\"].Mean());\n",
    "display(calls[\"Calls\"].Median());\n",
    "display(calls[\"Hour\"].ValueCounts());"
   ]
  },
  {
   "cell_type": "code",
   "execution_count": null,
   "metadata": {},
   "outputs": [],
   "source": [
    "Chart.Plot(\n",
    "    new Graph.Histogram()\n",
    "    {\n",
    "        x = calls[\"Calls\"]\n",
    "    }\n",
    ")"
   ]
  },
  {
   "cell_type": "code",
   "execution_count": null,
   "metadata": {},
   "outputs": [],
   "source": [
    "var callsGrouped = calls.GroupBy(\"WeatherConditions\").Sum(\"Calls\");\n",
    "\n",
    "var weatherCount = calls[\"WeatherConditions\"].ValueCounts();\n",
    "display(weatherCount);\n",
    "display(callsGrouped);\n",
    "\n",
    "var merged = callsGrouped.Merge<string>(weatherCount, \"WeatherConditions\", \"Values\");\n",
    "merged[\"Calls\"] /= merged[\"Counts\"];\n",
    "\n",
    "display(merged);\n",
    "\n",
    "Chart.Plot(\n",
    "    new Graph.Scatter()\n",
    "    {\n",
    "        x = merged[\"WeatherConditions\"],\n",
    "        y = merged[\"Calls\"]\n",
    "    }\n",
    ")"
   ]
  },
  {
   "cell_type": "markdown",
   "metadata": {},
   "source": [
    "### Test-/Train split"
   ]
  },
  {
   "cell_type": "code",
   "execution_count": null,
   "metadata": {},
   "outputs": [],
   "source": [
    "double splitFactor = 0.3;\n",
    "\n",
    "static T[] Shuffle<T>(T[] array)\n",
    "{\n",
    "    Random rand = new Random();\n",
    "    for (int i = 0; i < array.Length; i++)\n",
    "    {\n",
    "        int r = i + rand.Next(array.Length - i);\n",
    "        T temp = array[r];\n",
    "        array[r] = array[i];\n",
    "        array[i] = temp;\n",
    "    }\n",
    "    return array;\n",
    "}\n",
    "\n",
    "int[] randomIndices = Shuffle(Enumerable.Range(0, (int)calls.Rows.Count).ToArray());\n",
    "int testSize = (int)(calls.Rows.Count * splitFactor);\n",
    "int[] trainRows = randomIndices[testSize..];\n",
    "int[] testRows = randomIndices[..testSize];\n",
    "\n",
    "DataFrame calls_train = calls[trainRows];\n",
    "DataFrame calls_test = calls[testRows];\n",
    "\n",
    "display($\"{calls_train.Rows.Count} rows for training\");\n",
    "display($\"{calls_test.Rows.Count} rows for testing\");"
   ]
  },
  {
   "cell_type": "markdown",
   "metadata": {},
   "source": [
    "### Input and Output classes"
   ]
  },
  {
   "cell_type": "code",
   "execution_count": null,
   "metadata": {},
   "outputs": [],
   "source": [
    "class ModelInput\n",
    "{\n",
    "    public float Hour { get; set; }\n",
    "    public float Month { get; set; }\n",
    "    public string DayOfWeek { get; set; }\n",
    "    public string WeatherConditions { get; set; }\n",
    "}\n",
    "\n",
    "class ModelOutput\n",
    "{\n",
    "    public float Score { get; set; }\n",
    "}"
   ]
  },
  {
   "cell_type": "markdown",
   "metadata": {},
   "source": [
    "### Model pipeline and training"
   ]
  },
  {
   "cell_type": "code",
   "execution_count": null,
   "metadata": {},
   "outputs": [],
   "source": [
    "%%time\n",
    "\n",
    "var mlContext = new MLContext();\n",
    "\n",
    "var dataProcessPipeline = \n",
    "    mlContext.Transforms.Categorical.OneHotEncoding(\n",
    "        new[] \n",
    "        { \n",
    "            new InputOutputColumnPair(\"DayOfWeek\", \"DayOfWeek\"), \n",
    "            new InputOutputColumnPair(\"WeatherConditions\", \"WeatherConditions\"),\n",
    "            new InputOutputColumnPair(\"Hour\", \"Hour\"),\n",
    "            new InputOutputColumnPair(\"Month\", \"Month\"),\n",
    "        })\n",
    "        .Append(\n",
    "            mlContext.Transforms.Concatenate(\n",
    "                \"Features\", \n",
    "                new[] { \"DayOfWeek\", \"WeatherConditions\", \"Hour\", \"Month\" }));\n",
    "\n",
    "// Set the training algorithm \n",
    "var trainer = mlContext.Regression.Trainers.FastTreeTweedie(labelColumnName: \"Calls\", featureColumnName: \"Features\", numberOfTrees:50);\n",
    "var trainingPipeline = dataProcessPipeline.Append(trainer);\n",
    "\n",
    "var model = trainingPipeline.Fit(calls_train);\n",
    "\n",
    "var predictionEngine = mlContext.Model.CreatePredictionEngine<ModelInput, ModelOutput>(model);"
   ]
  },
  {
   "cell_type": "markdown",
   "metadata": {},
   "source": [
    "### Cross validation"
   ]
  },
  {
   "cell_type": "code",
   "execution_count": null,
   "metadata": {
    "scrolled": true
   },
   "outputs": [],
   "source": [
    "var crossValidationResults = mlContext.Regression.CrossValidate(calls_test, trainingPipeline, numberOfFolds: 5, labelColumnName: \"Calls\");\n",
    "\n",
    "PrintRegressionFoldsAverageMetrics(crossValidationResults);"
   ]
  },
  {
   "cell_type": "markdown",
   "metadata": {},
   "source": [
    "### Show actual and predicted values for a random sample"
   ]
  },
  {
   "cell_type": "code",
   "execution_count": null,
   "metadata": {},
   "outputs": [],
   "source": [
    "// Take a random sample from the dataset\n",
    "var randomSample = calls.Sample(1);\n",
    "\n",
    "// Create a scatter trace for plotting actual values\n",
    "var actualValues = calls.Filter(calls[\"Date\"].ElementwiseEquals(randomSample[\"Date\"][0]));\n",
    "\n",
    "var actual = new Graph.Scatter()\n",
    "{\n",
    "    x = actualValues[\"Hour\"],\n",
    "    y = actualValues[\"Calls\"],\n",
    "    mode = \"markers\",\n",
    "    name = \"actual\"\n",
    "};\n",
    "\n",
    "// Predict values for each hour of this day\n",
    "var predictedValues = new List<(int hour, float calls)>();\n",
    "\n",
    "for (int i=0; i<24; i++) \n",
    "{\n",
    "    var prediction = predictionEngine.Predict(new ModelInput()\n",
    "    {\n",
    "        Hour = (float)i,\n",
    "        Month = (float)randomSample[\"Month\"][0],\n",
    "        DayOfWeek = (string)randomSample[\"DayOfWeek\"][0],\n",
    "        WeatherConditions = (string)randomSample[\"WeatherConditions\"][0]\n",
    "    });\n",
    "    \n",
    "    predictedValues.Add((i, prediction.Score));\n",
    "}\n",
    "\n",
    "// Create a scatter chart for the predicted values\n",
    "var predicted = new Graph.Scatter()\n",
    "{\n",
    "    x = predictedValues.Select(p => p.hour),\n",
    "    y = predictedValues.Select(p => p.calls),\n",
    "    mode = \"markers\",\n",
    "    name = \"predicted\"\n",
    "};\n",
    "\n",
    "// Show the results\n",
    "display(h1(randomSample[\"Date\"][0]));\n",
    "display(randomSample[\"DayOfWeek\"][0]);\n",
    "display(\"Weather conditions: \" + randomSample[\"WeatherConditions\"][0]);\n",
    "\n",
    "display(Chart.Plot(new [] { actual, predicted }));"
   ]
  },
  {
   "cell_type": "markdown",
   "metadata": {},
   "source": [
    "### Analyze a whole year"
   ]
  },
  {
   "cell_type": "code",
   "execution_count": null,
   "metadata": {},
   "outputs": [],
   "source": [
    "// Create a scatter chart for the actual values\n",
    "var groupedByDate = calls.GroupBy(\"Date\").Sum(\"Calls\");\n",
    "\n",
    "var actual = new Graph.Scatter() {\n",
    "        x = groupedByDate[\"Date\"],\n",
    "        y = groupedByDate[\"Calls\"],\n",
    "        name = \"actual\"\n",
    "    };\n",
    "\n",
    "// Predict a whole year, starting with startDate\n",
    "DateTime startDate = new DateTime(2019, 1, 1);\n",
    "var predictedValues = new List<(string date, float calls)>();\n",
    "\n",
    "for (DateTime date = startDate; date < startDate.AddYears(1); date = date.AddDays(1))\n",
    "{\n",
    "    var dateString = date.ToString(\"MM'/'dd'/'yyyy 00:00:00\");\n",
    "    \n",
    "    var row = calls.Filter(calls[\"Date\"].ElementwiseEquals(dateString));\n",
    "    \n",
    "    string weatherConditions = (string)row[\"WeatherConditions\"][0];\n",
    "\n",
    "    float callCount = 0;\n",
    "    for (int i=0; i<24; i++) \n",
    "    {\n",
    "        var prediction = predictionEngine.Predict(new ModelInput()\n",
    "        {\n",
    "            Hour = (float)i,\n",
    "            Month = (float)date.Month,\n",
    "            DayOfWeek = date.DayOfWeek.ToString(),\n",
    "            WeatherConditions = weatherConditions\n",
    "        });\n",
    "        \n",
    "        callCount += prediction.Score;\n",
    "    }\n",
    "    \n",
    "    predictedValues.Add((dateString, callCount));\n",
    "}\n",
    "\n",
    "// Create a scatter chart for the predicted values\n",
    "var predicted = new Graph.Scatter {\n",
    "    x = predictedValues.Select(p => p.date),\n",
    "    y = predictedValues.Select(p => p.calls),\n",
    "    name = \"predicted\"\n",
    "};\n",
    "\n",
    "display(Chart.Plot(new [] { actual, predicted }));"
   ]
  },
  {
   "cell_type": "markdown",
   "metadata": {},
   "source": [
    "### Export model"
   ]
  },
  {
   "cell_type": "code",
   "execution_count": null,
   "metadata": {},
   "outputs": [],
   "source": [
    "%%time\n",
    "\n",
    "mlContext.Model.Save(model, ((IDataView)calls_train).Schema, \"Model.zip\");"
   ]
  }
 ],
 "metadata": {
  "kernelspec": {
   "display_name": ".NET (C#)",
   "language": "C#",
   "name": ".net-csharp"
  },
  "language_info": {
   "file_extension": ".cs",
   "mimetype": "text/x-csharp",
   "name": "C#",
   "pygments_lexer": "csharp",
   "version": "8.0"
  }
 },
 "nbformat": 4,
 "nbformat_minor": 2
}
