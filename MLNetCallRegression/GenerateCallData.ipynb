{
 "cells": [
  {
   "cell_type": "markdown",
   "metadata": {},
   "source": [
    "# Generate test data simulating calls in an emergency dispatch center"
   ]
  },
  {
   "cell_type": "markdown",
   "metadata": {},
   "source": [
    "### Install NuGet-Packages +  Using-Statements"
   ]
  },
  {
   "cell_type": "code",
   "execution_count": 1,
   "metadata": {
    "scrolled": true
   },
   "outputs": [
    {
     "data": {
      "text/html": [
       "Installing package MathNet.Numerics.......................................done!"
      ]
     },
     "metadata": {},
     "output_type": "display_data"
    },
    {
     "data": {
      "text/html": [
       "Successfully added reference to package MathNet.Numerics, version "
      ]
     },
     "metadata": {},
     "output_type": "display_data"
    },
    {
     "data": {
      "text/html": [
       "Installing package CsvHelper........done!"
      ]
     },
     "metadata": {},
     "output_type": "display_data"
    },
    {
     "data": {
      "text/html": [
       "Successfully added reference to package CsvHelper, version "
      ]
     },
     "metadata": {},
     "output_type": "display_data"
    }
   ],
   "source": [
    "#r \"nuget:MathNet.Numerics\"\n",
    "#r \"nuget:CsvHelper\""
   ]
  },
  {
   "cell_type": "code",
   "execution_count": 2,
   "metadata": {},
   "outputs": [],
   "source": [
    "using MathNet.Numerics.Distributions;\n",
    "using XPlot.Plotly;"
   ]
  },
  {
   "cell_type": "markdown",
   "metadata": {},
   "source": [
    "### Model class"
   ]
  },
  {
   "cell_type": "code",
   "execution_count": 3,
   "metadata": {},
   "outputs": [],
   "source": [
    "class Call \n",
    "{\n",
    "    public DateTime Date { get; set; }\n",
    "    \n",
    "    public int Month { get; set; }\n",
    "    \n",
    "    public string DayOfWeek { get; set; }\n",
    "        \n",
    "    public int Hour { get; set; }\n",
    "    \n",
    "    public string WeatherConditions { get; set; }\n",
    "}"
   ]
  },
  {
   "cell_type": "markdown",
   "metadata": {},
   "source": [
    "### Generate random data for one day"
   ]
  },
  {
   "cell_type": "code",
   "execution_count": 15,
   "metadata": {},
   "outputs": [],
   "source": [
    "var random = new Random();\n",
    "\n",
    "private IEnumerable<Call> GenerateDay(DateTime date)\n",
    "{\n",
    "    double callCount = 500+random.Next(100);\n",
    "    \n",
    "    // up to 20 % more calls between November and February\n",
    "    if (date.Month >= 11 || date.Month <= 2)\n",
    "    {\n",
    "        callCount *= 1 + random.NextDouble() * 0.2;\n",
    "    }\n",
    "    \n",
    "    string weatherConditions = random.NextDouble() > 0.7 ? \"bad\" : \"good\";\n",
    "    \n",
    "    // 40-60 % more calls when bad weather conditions occur\n",
    "    if (weatherConditions == \"bad\")\n",
    "    {\n",
    "        callCount *= 1.4 + random.NextDouble() * 0.2;\n",
    "    }\n",
    "    \n",
    "    var weekDayFactor = new Dictionary<DayOfWeek, float>()\n",
    "    {\n",
    "        { DayOfWeek.Monday, 1.4f },\n",
    "        { DayOfWeek.Tuesday, 1.2f },\n",
    "        { DayOfWeek.Wednesday, 1.0f },\n",
    "        { DayOfWeek.Thursday, 1.2f },\n",
    "        { DayOfWeek.Friday, 1.4f },\n",
    "        { DayOfWeek.Saturday, 0.8f },\n",
    "        { DayOfWeek.Sunday, 0.3f },\n",
    "    };\n",
    "    \n",
    "    // consider day of week factor\n",
    "    callCount *= weekDayFactor[date.DayOfWeek];\n",
    "    \n",
    "    Normal normalDist = new Normal(11, 3);\n",
    "    var values = normalDist.Samples().Take((int)Math.Floor(callCount)).ToList();\n",
    "\n",
    "    var calls = values.Select(v => new Call()\n",
    "    {\n",
    "        Date = date.Date,\n",
    "        Month = date.Month,\n",
    "        DayOfWeek = date.DayOfWeek.ToString(),\n",
    "        Hour = (int)Math.Round(v),\n",
    "        WeatherConditions = weatherConditions\n",
    "    }).ToList();\n",
    "    \n",
    "    return calls;\n",
    "}\n"
   ]
  },
  {
   "cell_type": "markdown",
   "metadata": {},
   "source": [
    "### Generate one year"
   ]
  },
  {
   "cell_type": "code",
   "execution_count": 16,
   "metadata": {},
   "outputs": [
    {
     "data": {
      "text/plain": [
       "247854"
      ]
     },
     "execution_count": 16,
     "metadata": {},
     "output_type": "execute_result"
    }
   ],
   "source": [
    "DateTime currentDate = new DateTime(2019, 1, 1);\n",
    "var calls = new List<Call>();\n",
    "\n",
    "for (int i=0; i<365; i++) \n",
    "{\n",
    "   calls.AddRange(GenerateDay(currentDate));\n",
    "   currentDate = currentDate.AddDays(1);\n",
    "}\n",
    "\n",
    "calls.Count"
   ]
  },
  {
   "cell_type": "markdown",
   "metadata": {},
   "source": [
    "### Visualize generated data"
   ]
  },
  {
   "cell_type": "code",
   "execution_count": 17,
   "metadata": {},
   "outputs": [
    {
     "data": {
      "text/html": [
       "<div id=\"db271b83-b54c-4f4e-a6f9-0f574e2729af\" style=\"width: 900px; height: 500px;\"></div><script type=\"text/javascript\">\r\n",
       "\r\n",
       "var renderPlotly = function() {\r\n",
       "    var xplotRequire = requirejs.config({context:'xplot-2.0.0',paths:{plotly:'https://cdn.plot.ly/plotly-1.49.2.min'}});\r\n",
       "    xplotRequire(['plotly'], function(Plotly) {\r\n",
       "\n",
       "            var data = [{\"type\":\"scatter\",\"x\":[\"2019-01-01T00:00:00\",\"2019-01-02T00:00:00\",\"2019-01-03T00:00:00\",\"2019-01-04T00:00:00\",\"2019-01-05T00:00:00\",\"2019-01-06T00:00:00\",\"2019-01-07T00:00:00\",\"2019-01-08T00:00:00\",\"2019-01-09T00:00:00\",\"2019-01-10T00:00:00\",\"2019-01-11T00:00:00\",\"2019-01-12T00:00:00\",\"2019-01-13T00:00:00\",\"2019-01-14T00:00:00\",\"2019-01-15T00:00:00\",\"2019-01-16T00:00:00\",\"2019-01-17T00:00:00\",\"2019-01-18T00:00:00\",\"2019-01-19T00:00:00\",\"2019-01-20T00:00:00\",\"2019-01-21T00:00:00\",\"2019-01-22T00:00:00\",\"2019-01-23T00:00:00\",\"2019-01-24T00:00:00\",\"2019-01-25T00:00:00\",\"2019-01-26T00:00:00\",\"2019-01-27T00:00:00\",\"2019-01-28T00:00:00\",\"2019-01-29T00:00:00\",\"2019-01-30T00:00:00\",\"2019-01-31T00:00:00\",\"2019-02-01T00:00:00\",\"2019-02-02T00:00:00\",\"2019-02-03T00:00:00\",\"2019-02-04T00:00:00\",\"2019-02-05T00:00:00\",\"2019-02-06T00:00:00\",\"2019-02-07T00:00:00\",\"2019-02-08T00:00:00\",\"2019-02-09T00:00:00\",\"2019-02-10T00:00:00\",\"2019-02-11T00:00:00\",\"2019-02-12T00:00:00\",\"2019-02-13T00:00:00\",\"2019-02-14T00:00:00\",\"2019-02-15T00:00:00\",\"2019-02-16T00:00:00\",\"2019-02-17T00:00:00\",\"2019-02-18T00:00:00\",\"2019-02-19T00:00:00\",\"2019-02-20T00:00:00\",\"2019-02-21T00:00:00\",\"2019-02-22T00:00:00\",\"2019-02-23T00:00:00\",\"2019-02-24T00:00:00\",\"2019-02-25T00:00:00\",\"2019-02-26T00:00:00\",\"2019-02-27T00:00:00\",\"2019-02-28T00:00:00\",\"2019-03-01T00:00:00\",\"2019-03-02T00:00:00\",\"2019-03-03T00:00:00\",\"2019-03-04T00:00:00\",\"2019-03-05T00:00:00\",\"2019-03-06T00:00:00\",\"2019-03-07T00:00:00\",\"2019-03-08T00:00:00\",\"2019-03-09T00:00:00\",\"2019-03-10T00:00:00\",\"2019-03-11T00:00:00\",\"2019-03-12T00:00:00\",\"2019-03-13T00:00:00\",\"2019-03-14T00:00:00\",\"2019-03-15T00:00:00\",\"2019-03-16T00:00:00\",\"2019-03-17T00:00:00\",\"2019-03-18T00:00:00\",\"2019-03-19T00:00:00\",\"2019-03-20T00:00:00\",\"2019-03-21T00:00:00\",\"2019-03-22T00:00:00\",\"2019-03-23T00:00:00\",\"2019-03-24T00:00:00\",\"2019-03-25T00:00:00\",\"2019-03-26T00:00:00\",\"2019-03-27T00:00:00\",\"2019-03-28T00:00:00\",\"2019-03-29T00:00:00\",\"2019-03-30T00:00:00\",\"2019-03-31T00:00:00\",\"2019-04-01T00:00:00\",\"2019-04-02T00:00:00\",\"2019-04-03T00:00:00\",\"2019-04-04T00:00:00\",\"2019-04-05T00:00:00\",\"2019-04-06T00:00:00\",\"2019-04-07T00:00:00\",\"2019-04-08T00:00:00\",\"2019-04-09T00:00:00\",\"2019-04-10T00:00:00\",\"2019-04-11T00:00:00\",\"2019-04-12T00:00:00\",\"2019-04-13T00:00:00\",\"2019-04-14T00:00:00\",\"2019-04-15T00:00:00\",\"2019-04-16T00:00:00\",\"2019-04-17T00:00:00\",\"2019-04-18T00:00:00\",\"2019-04-19T00:00:00\",\"2019-04-20T00:00:00\",\"2019-04-21T00:00:00\",\"2019-04-22T00:00:00\",\"2019-04-23T00:00:00\",\"2019-04-24T00:00:00\",\"2019-04-25T00:00:00\",\"2019-04-26T00:00:00\",\"2019-04-27T00:00:00\",\"2019-04-28T00:00:00\",\"2019-04-29T00:00:00\",\"2019-04-30T00:00:00\",\"2019-05-01T00:00:00\",\"2019-05-02T00:00:00\",\"2019-05-03T00:00:00\",\"2019-05-04T00:00:00\",\"2019-05-05T00:00:00\",\"2019-05-06T00:00:00\",\"2019-05-07T00:00:00\",\"2019-05-08T00:00:00\",\"2019-05-09T00:00:00\",\"2019-05-10T00:00:00\",\"2019-05-11T00:00:00\",\"2019-05-12T00:00:00\",\"2019-05-13T00:00:00\",\"2019-05-14T00:00:00\",\"2019-05-15T00:00:00\",\"2019-05-16T00:00:00\",\"2019-05-17T00:00:00\",\"2019-05-18T00:00:00\",\"2019-05-19T00:00:00\",\"2019-05-20T00:00:00\",\"2019-05-21T00:00:00\",\"2019-05-22T00:00:00\",\"2019-05-23T00:00:00\",\"2019-05-24T00:00:00\",\"2019-05-25T00:00:00\",\"2019-05-26T00:00:00\",\"2019-05-27T00:00:00\",\"2019-05-28T00:00:00\",\"2019-05-29T00:00:00\",\"2019-05-30T00:00:00\",\"2019-05-31T00:00:00\",\"2019-06-01T00:00:00\",\"2019-06-02T00:00:00\",\"2019-06-03T00:00:00\",\"2019-06-04T00:00:00\",\"2019-06-05T00:00:00\",\"2019-06-06T00:00:00\",\"2019-06-07T00:00:00\",\"2019-06-08T00:00:00\",\"2019-06-09T00:00:00\",\"2019-06-10T00:00:00\",\"2019-06-11T00:00:00\",\"2019-06-12T00:00:00\",\"2019-06-13T00:00:00\",\"2019-06-14T00:00:00\",\"2019-06-15T00:00:00\",\"2019-06-16T00:00:00\",\"2019-06-17T00:00:00\",\"2019-06-18T00:00:00\",\"2019-06-19T00:00:00\",\"2019-06-20T00:00:00\",\"2019-06-21T00:00:00\",\"2019-06-22T00:00:00\",\"2019-06-23T00:00:00\",\"2019-06-24T00:00:00\",\"2019-06-25T00:00:00\",\"2019-06-26T00:00:00\",\"2019-06-27T00:00:00\",\"2019-06-28T00:00:00\",\"2019-06-29T00:00:00\",\"2019-06-30T00:00:00\",\"2019-07-01T00:00:00\",\"2019-07-02T00:00:00\",\"2019-07-03T00:00:00\",\"2019-07-04T00:00:00\",\"2019-07-05T00:00:00\",\"2019-07-06T00:00:00\",\"2019-07-07T00:00:00\",\"2019-07-08T00:00:00\",\"2019-07-09T00:00:00\",\"2019-07-10T00:00:00\",\"2019-07-11T00:00:00\",\"2019-07-12T00:00:00\",\"2019-07-13T00:00:00\",\"2019-07-14T00:00:00\",\"2019-07-15T00:00:00\",\"2019-07-16T00:00:00\",\"2019-07-17T00:00:00\",\"2019-07-18T00:00:00\",\"2019-07-19T00:00:00\",\"2019-07-20T00:00:00\",\"2019-07-21T00:00:00\",\"2019-07-22T00:00:00\",\"2019-07-23T00:00:00\",\"2019-07-24T00:00:00\",\"2019-07-25T00:00:00\",\"2019-07-26T00:00:00\",\"2019-07-27T00:00:00\",\"2019-07-28T00:00:00\",\"2019-07-29T00:00:00\",\"2019-07-30T00:00:00\",\"2019-07-31T00:00:00\",\"2019-08-01T00:00:00\",\"2019-08-02T00:00:00\",\"2019-08-03T00:00:00\",\"2019-08-04T00:00:00\",\"2019-08-05T00:00:00\",\"2019-08-06T00:00:00\",\"2019-08-07T00:00:00\",\"2019-08-08T00:00:00\",\"2019-08-09T00:00:00\",\"2019-08-10T00:00:00\",\"2019-08-11T00:00:00\",\"2019-08-12T00:00:00\",\"2019-08-13T00:00:00\",\"2019-08-14T00:00:00\",\"2019-08-15T00:00:00\",\"2019-08-16T00:00:00\",\"2019-08-17T00:00:00\",\"2019-08-18T00:00:00\",\"2019-08-19T00:00:00\",\"2019-08-20T00:00:00\",\"2019-08-21T00:00:00\",\"2019-08-22T00:00:00\",\"2019-08-23T00:00:00\",\"2019-08-24T00:00:00\",\"2019-08-25T00:00:00\",\"2019-08-26T00:00:00\",\"2019-08-27T00:00:00\",\"2019-08-28T00:00:00\",\"2019-08-29T00:00:00\",\"2019-08-30T00:00:00\",\"2019-08-31T00:00:00\",\"2019-09-01T00:00:00\",\"2019-09-02T00:00:00\",\"2019-09-03T00:00:00\",\"2019-09-04T00:00:00\",\"2019-09-05T00:00:00\",\"2019-09-06T00:00:00\",\"2019-09-07T00:00:00\",\"2019-09-08T00:00:00\",\"2019-09-09T00:00:00\",\"2019-09-10T00:00:00\",\"2019-09-11T00:00:00\",\"2019-09-12T00:00:00\",\"2019-09-13T00:00:00\",\"2019-09-14T00:00:00\",\"2019-09-15T00:00:00\",\"2019-09-16T00:00:00\",\"2019-09-17T00:00:00\",\"2019-09-18T00:00:00\",\"2019-09-19T00:00:00\",\"2019-09-20T00:00:00\",\"2019-09-21T00:00:00\",\"2019-09-22T00:00:00\",\"2019-09-23T00:00:00\",\"2019-09-24T00:00:00\",\"2019-09-25T00:00:00\",\"2019-09-26T00:00:00\",\"2019-09-27T00:00:00\",\"2019-09-28T00:00:00\",\"2019-09-29T00:00:00\",\"2019-09-30T00:00:00\",\"2019-10-01T00:00:00\",\"2019-10-02T00:00:00\",\"2019-10-03T00:00:00\",\"2019-10-04T00:00:00\",\"2019-10-05T00:00:00\",\"2019-10-06T00:00:00\",\"2019-10-07T00:00:00\",\"2019-10-08T00:00:00\",\"2019-10-09T00:00:00\",\"2019-10-10T00:00:00\",\"2019-10-11T00:00:00\",\"2019-10-12T00:00:00\",\"2019-10-13T00:00:00\",\"2019-10-14T00:00:00\",\"2019-10-15T00:00:00\",\"2019-10-16T00:00:00\",\"2019-10-17T00:00:00\",\"2019-10-18T00:00:00\",\"2019-10-19T00:00:00\",\"2019-10-20T00:00:00\",\"2019-10-21T00:00:00\",\"2019-10-22T00:00:00\",\"2019-10-23T00:00:00\",\"2019-10-24T00:00:00\",\"2019-10-25T00:00:00\",\"2019-10-26T00:00:00\",\"2019-10-27T00:00:00\",\"2019-10-28T00:00:00\",\"2019-10-29T00:00:00\",\"2019-10-30T00:00:00\",\"2019-10-31T00:00:00\",\"2019-11-01T00:00:00\",\"2019-11-02T00:00:00\",\"2019-11-03T00:00:00\",\"2019-11-04T00:00:00\",\"2019-11-05T00:00:00\",\"2019-11-06T00:00:00\",\"2019-11-07T00:00:00\",\"2019-11-08T00:00:00\",\"2019-11-09T00:00:00\",\"2019-11-10T00:00:00\",\"2019-11-11T00:00:00\",\"2019-11-12T00:00:00\",\"2019-11-13T00:00:00\",\"2019-11-14T00:00:00\",\"2019-11-15T00:00:00\",\"2019-11-16T00:00:00\",\"2019-11-17T00:00:00\",\"2019-11-18T00:00:00\",\"2019-11-19T00:00:00\",\"2019-11-20T00:00:00\",\"2019-11-21T00:00:00\",\"2019-11-22T00:00:00\",\"2019-11-23T00:00:00\",\"2019-11-24T00:00:00\",\"2019-11-25T00:00:00\",\"2019-11-26T00:00:00\",\"2019-11-27T00:00:00\",\"2019-11-28T00:00:00\",\"2019-11-29T00:00:00\",\"2019-11-30T00:00:00\",\"2019-12-01T00:00:00\",\"2019-12-02T00:00:00\",\"2019-12-03T00:00:00\",\"2019-12-04T00:00:00\",\"2019-12-05T00:00:00\",\"2019-12-06T00:00:00\",\"2019-12-07T00:00:00\",\"2019-12-08T00:00:00\",\"2019-12-09T00:00:00\",\"2019-12-10T00:00:00\",\"2019-12-11T00:00:00\",\"2019-12-12T00:00:00\",\"2019-12-13T00:00:00\",\"2019-12-14T00:00:00\",\"2019-12-15T00:00:00\",\"2019-12-16T00:00:00\",\"2019-12-17T00:00:00\",\"2019-12-18T00:00:00\",\"2019-12-19T00:00:00\",\"2019-12-20T00:00:00\",\"2019-12-21T00:00:00\",\"2019-12-22T00:00:00\",\"2019-12-23T00:00:00\",\"2019-12-24T00:00:00\",\"2019-12-25T00:00:00\",\"2019-12-26T00:00:00\",\"2019-12-27T00:00:00\",\"2019-12-28T00:00:00\",\"2019-12-29T00:00:00\",\"2019-12-30T00:00:00\",\"2019-12-31T00:00:00\"],\"y\":[698,675,669,923,703,163,911,733,608,662,847,529,243,869,698,607,704,875,498,184,769,728,898,693,1420,708,253,935,1271,611,705,774,431,191,773,681,610,695,1366,484,170,799,656,590,665,1191,462,196,859,994,665,711,929,688,254,834,713,881,1331,739,659,171,761,650,874,1110,748,408,253,779,630,513,682,764,404,157,811,668,754,660,748,698,162,823,664,533,654,743,458,152,810,679,554,663,813,457,243,741,621,585,673,832,692,239,722,604,525,962,1083,441,157,1088,694,575,627,1156,464,179,832,666,571,696,795,662,179,753,650,787,655,1067,400,174,761,666,552,672,730,468,159,1101,687,579,650,1183,410,276,1127,609,594,718,1215,688,154,797,619,513,691,1238,682,170,750,630,800,1123,746,679,178,1302,693,813,851,774,439,153,706,961,592,632,725,415,171,813,711,586,699,1071,683,171,699,982,526,1063,1138,412,165,1210,968,522,607,1192,687,171,1255,606,513,660,1204,635,254,1047,621,570,718,1159,448,169,1119,694,527,953,1054,412,167,733,702,557,610,776,600,160,1167,697,512,606,778,422,228,767,650,894,693,1144,449,170,1199,949,552,690,765,661,173,743,1075,944,680,793,470,228,750,1091,587,714,739,459,166,838,899,895,651,704,467,175,765,684,804,959,828,451,156,804,914,833,979,775,697,172,816,1024,517,948,814,579,174,1136,705,779,646,729,417,152,750,681,579,620,1168,524,190,1257,1076,593,1161,969,652,184,1363,785,555,992,864,473,249,955,671,641,703,783,449,260,1351,759,539,758,893,562,270,780,649,606,771,910,472,267,941,819,575,764,847,650,301,890,695,596,732,796,471,167,1200,963,595,719,1251,725,304,1133,675]}];\n",
       "            var layout = \"\";\n",
       "            Plotly.newPlot('db271b83-b54c-4f4e-a6f9-0f574e2729af', data, layout);\n",
       "        });\r\n",
       "};\r\n",
       "if ((typeof(requirejs) !==  typeof(Function)) || (typeof(requirejs.config) !== typeof(Function))) { \r\n",
       "    var script = document.createElement(\"script\"); \r\n",
       "    script.setAttribute(\"src\", \"https://cdnjs.cloudflare.com/ajax/libs/require.js/2.3.6/require.min.js\"); \r\n",
       "    script.onload = function(){\r\n",
       "        renderPlotly();\r\n",
       "    };\r\n",
       "    document.getElementsByTagName(\"head\")[0].appendChild(script); \r\n",
       "}\r\n",
       "else {\r\n",
       "    renderPlotly();\r\n",
       "}\r\n",
       "</script>"
      ]
     },
     "execution_count": 17,
     "metadata": {},
     "output_type": "execute_result"
    }
   ],
   "source": [
    "using System.Linq;\n",
    "\n",
    "var callsByDate = calls.GroupBy(c => c.Date).ToDictionary(c => c.Key, c => c.Count());\n",
    "\n",
    "Chart.Plot(\n",
    "    new Graph.Scatter() {\n",
    "        x = callsByDate.Keys,\n",
    "        y = callsByDate.Values\n",
    "    }\n",
    ")"
   ]
  },
  {
   "cell_type": "markdown",
   "metadata": {},
   "source": [
    "### Group generated calls by hour"
   ]
  },
  {
   "cell_type": "code",
   "execution_count": 18,
   "metadata": {},
   "outputs": [
    {
     "data": {
      "text/html": [
       "<table><thead><tr><th><i>index</i></th><th>Date</th><th>Hour</th><th>Month</th><th>DayOfWeek</th><th>WeatherConditions</th><th>Calls</th></tr></thead><tbody><tr><td>0</td><td>2019-01-01 00:00:00Z</td><td>1</td><td>1</td><td>Tuesday</td><td>good</td><td>1</td></tr><tr><td>1</td><td>2019-01-01 00:00:00Z</td><td>2</td><td>1</td><td>Tuesday</td><td>good</td><td>1</td></tr><tr><td>2</td><td>2019-01-01 00:00:00Z</td><td>3</td><td>1</td><td>Tuesday</td><td>good</td><td>7</td></tr><tr><td>3</td><td>2019-01-01 00:00:00Z</td><td>4</td><td>1</td><td>Tuesday</td><td>good</td><td>4</td></tr><tr><td>4</td><td>2019-01-01 00:00:00Z</td><td>5</td><td>1</td><td>Tuesday</td><td>good</td><td>18</td></tr><tr><td>5</td><td>2019-01-01 00:00:00Z</td><td>6</td><td>1</td><td>Tuesday</td><td>good</td><td>23</td></tr><tr><td>6</td><td>2019-01-01 00:00:00Z</td><td>7</td><td>1</td><td>Tuesday</td><td>good</td><td>41</td></tr><tr><td>7</td><td>2019-01-01 00:00:00Z</td><td>8</td><td>1</td><td>Tuesday</td><td>good</td><td>68</td></tr><tr><td>8</td><td>2019-01-01 00:00:00Z</td><td>9</td><td>1</td><td>Tuesday</td><td>good</td><td>84</td></tr><tr><td>9</td><td>2019-01-01 00:00:00Z</td><td>10</td><td>1</td><td>Tuesday</td><td>good</td><td>82</td></tr><tr><td>10</td><td>2019-01-01 00:00:00Z</td><td>11</td><td>1</td><td>Tuesday</td><td>good</td><td>88</td></tr><tr><td>11</td><td>2019-01-01 00:00:00Z</td><td>12</td><td>1</td><td>Tuesday</td><td>good</td><td>82</td></tr><tr><td>12</td><td>2019-01-01 00:00:00Z</td><td>13</td><td>1</td><td>Tuesday</td><td>good</td><td>77</td></tr><tr><td>13</td><td>2019-01-01 00:00:00Z</td><td>14</td><td>1</td><td>Tuesday</td><td>good</td><td>53</td></tr><tr><td>14</td><td>2019-01-01 00:00:00Z</td><td>15</td><td>1</td><td>Tuesday</td><td>good</td><td>37</td></tr><tr><td>15</td><td>2019-01-01 00:00:00Z</td><td>16</td><td>1</td><td>Tuesday</td><td>good</td><td>14</td></tr><tr><td>16</td><td>2019-01-01 00:00:00Z</td><td>17</td><td>1</td><td>Tuesday</td><td>good</td><td>13</td></tr><tr><td>17</td><td>2019-01-01 00:00:00Z</td><td>18</td><td>1</td><td>Tuesday</td><td>good</td><td>4</td></tr><tr><td>18</td><td>2019-01-01 00:00:00Z</td><td>19</td><td>1</td><td>Tuesday</td><td>good</td><td>1</td></tr><tr><td>19</td><td>2019-01-02 00:00:00Z</td><td>0</td><td>1</td><td>Wednesday</td><td>good</td><td>1</td></tr><tr><td>20</td><td>2019-01-02 00:00:00Z</td><td>2</td><td>1</td><td>Wednesday</td><td>good</td><td>1</td></tr><tr><td>21</td><td>2019-01-02 00:00:00Z</td><td>3</td><td>1</td><td>Wednesday</td><td>good</td><td>3</td></tr><tr><td>22</td><td>2019-01-02 00:00:00Z</td><td>4</td><td>1</td><td>Wednesday</td><td>good</td><td>8</td></tr><tr><td>23</td><td>2019-01-02 00:00:00Z</td><td>5</td><td>1</td><td>Wednesday</td><td>good</td><td>11</td></tr><tr><td>24</td><td>2019-01-02 00:00:00Z</td><td>6</td><td>1</td><td>Wednesday</td><td>good</td><td>26</td></tr><tr><td>25</td><td>2019-01-02 00:00:00Z</td><td>7</td><td>1</td><td>Wednesday</td><td>good</td><td>37</td></tr><tr><td>26</td><td>2019-01-02 00:00:00Z</td><td>8</td><td>1</td><td>Wednesday</td><td>good</td><td>48</td></tr><tr><td>27</td><td>2019-01-02 00:00:00Z</td><td>9</td><td>1</td><td>Wednesday</td><td>good</td><td>91</td></tr><tr><td>28</td><td>2019-01-02 00:00:00Z</td><td>10</td><td>1</td><td>Wednesday</td><td>good</td><td>94</td></tr><tr><td>29</td><td>2019-01-02 00:00:00Z</td><td>11</td><td>1</td><td>Wednesday</td><td>good</td><td>83</td></tr><tr><td>30</td><td>2019-01-02 00:00:00Z</td><td>12</td><td>1</td><td>Wednesday</td><td>good</td><td>89</td></tr><tr><td>31</td><td>2019-01-02 00:00:00Z</td><td>13</td><td>1</td><td>Wednesday</td><td>good</td><td>57</td></tr><tr><td>32</td><td>2019-01-02 00:00:00Z</td><td>14</td><td>1</td><td>Wednesday</td><td>good</td><td>51</td></tr><tr><td>33</td><td>2019-01-02 00:00:00Z</td><td>15</td><td>1</td><td>Wednesday</td><td>good</td><td>32</td></tr><tr><td>34</td><td>2019-01-02 00:00:00Z</td><td>16</td><td>1</td><td>Wednesday</td><td>good</td><td>27</td></tr><tr><td>35</td><td>2019-01-02 00:00:00Z</td><td>17</td><td>1</td><td>Wednesday</td><td>good</td><td>8</td></tr><tr><td>36</td><td>2019-01-02 00:00:00Z</td><td>18</td><td>1</td><td>Wednesday</td><td>good</td><td>2</td></tr><tr><td>37</td><td>2019-01-02 00:00:00Z</td><td>19</td><td>1</td><td>Wednesday</td><td>good</td><td>3</td></tr><tr><td>38</td><td>2019-01-02 00:00:00Z</td><td>20</td><td>1</td><td>Wednesday</td><td>good</td><td>3</td></tr><tr><td>39</td><td>2019-01-03 00:00:00Z</td><td>1</td><td>1</td><td>Thursday</td><td>good</td><td>1</td></tr><tr><td>40</td><td>2019-01-03 00:00:00Z</td><td>3</td><td>1</td><td>Thursday</td><td>good</td><td>2</td></tr><tr><td>41</td><td>2019-01-03 00:00:00Z</td><td>4</td><td>1</td><td>Thursday</td><td>good</td><td>4</td></tr><tr><td>42</td><td>2019-01-03 00:00:00Z</td><td>5</td><td>1</td><td>Thursday</td><td>good</td><td>12</td></tr><tr><td>43</td><td>2019-01-03 00:00:00Z</td><td>6</td><td>1</td><td>Thursday</td><td>good</td><td>20</td></tr><tr><td>44</td><td>2019-01-03 00:00:00Z</td><td>7</td><td>1</td><td>Thursday</td><td>good</td><td>34</td></tr><tr><td>45</td><td>2019-01-03 00:00:00Z</td><td>8</td><td>1</td><td>Thursday</td><td>good</td><td>55</td></tr><tr><td>46</td><td>2019-01-03 00:00:00Z</td><td>9</td><td>1</td><td>Thursday</td><td>good</td><td>74</td></tr><tr><td>47</td><td>2019-01-03 00:00:00Z</td><td>10</td><td>1</td><td>Thursday</td><td>good</td><td>93</td></tr><tr><td>48</td><td>2019-01-03 00:00:00Z</td><td>11</td><td>1</td><td>Thursday</td><td>good</td><td>86</td></tr><tr><td>49</td><td>2019-01-03 00:00:00Z</td><td>12</td><td>1</td><td>Thursday</td><td>good</td><td>84</td></tr><tr><td>50</td><td>2019-01-03 00:00:00Z</td><td>13</td><td>1</td><td>Thursday</td><td>good</td><td>74</td></tr><tr><td>51</td><td>2019-01-03 00:00:00Z</td><td>14</td><td>1</td><td>Thursday</td><td>good</td><td>47</td></tr><tr><td>52</td><td>2019-01-03 00:00:00Z</td><td>15</td><td>1</td><td>Thursday</td><td>good</td><td>40</td></tr><tr><td>53</td><td>2019-01-03 00:00:00Z</td><td>16</td><td>1</td><td>Thursday</td><td>good</td><td>17</td></tr><tr><td>54</td><td>2019-01-03 00:00:00Z</td><td>17</td><td>1</td><td>Thursday</td><td>good</td><td>14</td></tr><tr><td>55</td><td>2019-01-03 00:00:00Z</td><td>18</td><td>1</td><td>Thursday</td><td>good</td><td>10</td></tr><tr><td>56</td><td>2019-01-03 00:00:00Z</td><td>20</td><td>1</td><td>Thursday</td><td>good</td><td>2</td></tr><tr><td>57</td><td>2019-01-04 00:00:00Z</td><td>2</td><td>1</td><td>Friday</td><td>good</td><td>1</td></tr><tr><td>58</td><td>2019-01-04 00:00:00Z</td><td>3</td><td>1</td><td>Friday</td><td>good</td><td>4</td></tr><tr><td>59</td><td>2019-01-04 00:00:00Z</td><td>4</td><td>1</td><td>Friday</td><td>good</td><td>11</td></tr><tr><td>60</td><td>2019-01-04 00:00:00Z</td><td>5</td><td>1</td><td>Friday</td><td>good</td><td>19</td></tr><tr><td>61</td><td>2019-01-04 00:00:00Z</td><td>6</td><td>1</td><td>Friday</td><td>good</td><td>32</td></tr><tr><td>62</td><td>2019-01-04 00:00:00Z</td><td>7</td><td>1</td><td>Friday</td><td>good</td><td>45</td></tr><tr><td>63</td><td>2019-01-04 00:00:00Z</td><td>8</td><td>1</td><td>Friday</td><td>good</td><td>78</td></tr><tr><td>64</td><td>2019-01-04 00:00:00Z</td><td>9</td><td>1</td><td>Friday</td><td>good</td><td>91</td></tr><tr><td>65</td><td>2019-01-04 00:00:00Z</td><td>10</td><td>1</td><td>Friday</td><td>good</td><td>94</td></tr><tr><td>66</td><td>2019-01-04 00:00:00Z</td><td>11</td><td>1</td><td>Friday</td><td>good</td><td>126</td></tr><tr><td>67</td><td>2019-01-04 00:00:00Z</td><td>12</td><td>1</td><td>Friday</td><td>good</td><td>128</td></tr><tr><td>68</td><td>2019-01-04 00:00:00Z</td><td>13</td><td>1</td><td>Friday</td><td>good</td><td>107</td></tr><tr><td>69</td><td>2019-01-04 00:00:00Z</td><td>14</td><td>1</td><td>Friday</td><td>good</td><td>80</td></tr><tr><td>70</td><td>2019-01-04 00:00:00Z</td><td>15</td><td>1</td><td>Friday</td><td>good</td><td>54</td></tr><tr><td>71</td><td>2019-01-04 00:00:00Z</td><td>16</td><td>1</td><td>Friday</td><td>good</td><td>27</td></tr><tr><td>72</td><td>2019-01-04 00:00:00Z</td><td>17</td><td>1</td><td>Friday</td><td>good</td><td>12</td></tr><tr><td>73</td><td>2019-01-04 00:00:00Z</td><td>18</td><td>1</td><td>Friday</td><td>good</td><td>9</td></tr><tr><td>74</td><td>2019-01-04 00:00:00Z</td><td>19</td><td>1</td><td>Friday</td><td>good</td><td>3</td></tr><tr><td>75</td><td>2019-01-04 00:00:00Z</td><td>20</td><td>1</td><td>Friday</td><td>good</td><td>1</td></tr><tr><td>76</td><td>2019-01-04 00:00:00Z</td><td>21</td><td>1</td><td>Friday</td><td>good</td><td>1</td></tr><tr><td>77</td><td>2019-01-05 00:00:00Z</td><td>0</td><td>1</td><td>Saturday</td><td>bad</td><td>1</td></tr><tr><td>78</td><td>2019-01-05 00:00:00Z</td><td>2</td><td>1</td><td>Saturday</td><td>bad</td><td>2</td></tr><tr><td>79</td><td>2019-01-05 00:00:00Z</td><td>3</td><td>1</td><td>Saturday</td><td>bad</td><td>1</td></tr><tr><td>80</td><td>2019-01-05 00:00:00Z</td><td>4</td><td>1</td><td>Saturday</td><td>bad</td><td>3</td></tr><tr><td>81</td><td>2019-01-05 00:00:00Z</td><td>5</td><td>1</td><td>Saturday</td><td>bad</td><td>12</td></tr><tr><td>82</td><td>2019-01-05 00:00:00Z</td><td>6</td><td>1</td><td>Saturday</td><td>bad</td><td>19</td></tr><tr><td>83</td><td>2019-01-05 00:00:00Z</td><td>7</td><td>1</td><td>Saturday</td><td>bad</td><td>44</td></tr><tr><td>84</td><td>2019-01-05 00:00:00Z</td><td>8</td><td>1</td><td>Saturday</td><td>bad</td><td>58</td></tr><tr><td>85</td><td>2019-01-05 00:00:00Z</td><td>9</td><td>1</td><td>Saturday</td><td>bad</td><td>84</td></tr><tr><td>86</td><td>2019-01-05 00:00:00Z</td><td>10</td><td>1</td><td>Saturday</td><td>bad</td><td>85</td></tr><tr><td>87</td><td>2019-01-05 00:00:00Z</td><td>11</td><td>1</td><td>Saturday</td><td>bad</td><td>81</td></tr><tr><td>88</td><td>2019-01-05 00:00:00Z</td><td>12</td><td>1</td><td>Saturday</td><td>bad</td><td>87</td></tr><tr><td>89</td><td>2019-01-05 00:00:00Z</td><td>13</td><td>1</td><td>Saturday</td><td>bad</td><td>82</td></tr><tr><td>90</td><td>2019-01-05 00:00:00Z</td><td>14</td><td>1</td><td>Saturday</td><td>bad</td><td>57</td></tr><tr><td>91</td><td>2019-01-05 00:00:00Z</td><td>15</td><td>1</td><td>Saturday</td><td>bad</td><td>42</td></tr><tr><td>92</td><td>2019-01-05 00:00:00Z</td><td>16</td><td>1</td><td>Saturday</td><td>bad</td><td>17</td></tr><tr><td>93</td><td>2019-01-05 00:00:00Z</td><td>17</td><td>1</td><td>Saturday</td><td>bad</td><td>18</td></tr><tr><td>94</td><td>2019-01-05 00:00:00Z</td><td>18</td><td>1</td><td>Saturday</td><td>bad</td><td>8</td></tr><tr><td>95</td><td>2019-01-05 00:00:00Z</td><td>19</td><td>1</td><td>Saturday</td><td>bad</td><td>1</td></tr><tr><td>96</td><td>2019-01-05 00:00:00Z</td><td>20</td><td>1</td><td>Saturday</td><td>bad</td><td>1</td></tr><tr><td>97</td><td>2019-01-06 00:00:00Z</td><td>2</td><td>1</td><td>Sunday</td><td>good</td><td>1</td></tr><tr><td>98</td><td>2019-01-06 00:00:00Z</td><td>4</td><td>1</td><td>Sunday</td><td>good</td><td>2</td></tr><tr><td>99</td><td>2019-01-06 00:00:00Z</td><td>5</td><td>1</td><td>Sunday</td><td>good</td><td>1</td></tr></tbody></table>"
      ]
     },
     "execution_count": 18,
     "metadata": {},
     "output_type": "execute_result"
    }
   ],
   "source": [
    "using System.Linq;\n",
    "\n",
    "var groupedByHour = (from c in calls\n",
    "                     group c by new\n",
    "                     {\n",
    "                         c.Date,\n",
    "                         c.Hour,\n",
    "                         c.WeatherConditions\n",
    "                     }\n",
    "                     into grouped\n",
    "                     orderby grouped.Key.Date, grouped.Key.Hour\n",
    "                     select new\n",
    "                     {\n",
    "                         Date = grouped.Key.Date,\n",
    "                         Hour = grouped.Key.Hour,\n",
    "                         Month = grouped.Key.Date.Month,\n",
    "                         DayOfWeek = grouped.Key.Date.DayOfWeek.ToString(),\n",
    "                         WeatherConditions = grouped.Key.WeatherConditions,\n",
    "                         Calls = grouped.Count()\n",
    "                     }).ToList();\n",
    "\n",
    "groupedByHour.Take(100)"
   ]
  },
  {
   "cell_type": "markdown",
   "metadata": {},
   "source": [
    "### Export to CSV"
   ]
  },
  {
   "cell_type": "code",
   "execution_count": 20,
   "metadata": {},
   "outputs": [],
   "source": [
    "using CsvHelper;\n",
    "\n",
    "using (var writer = new System.IO.StreamWriter(\"data\\\\calls.csv\"))\n",
    "using (var csv = new CsvWriter(writer, System.Globalization.CultureInfo.InvariantCulture))\n",
    "{    \n",
    "    csv.WriteRecords(groupedByHour);\n",
    "}"
   ]
  },
  {
   "cell_type": "markdown",
   "metadata": {},
   "source": [
    "### Add columns with data from previous hours"
   ]
  },
  {
   "cell_type": "code",
   "execution_count": 21,
   "metadata": {},
   "outputs": [],
   "source": [
    "var addPrevious = (from g in groupedByHour\n",
    "                  let prev = groupedByHour.FirstOrDefault(p => p.Date == g.Date && p.Hour == g.Hour - 1)\n",
    "                  let prev2 = groupedByHour.FirstOrDefault(p => p.Date == g.Date && p.Hour == g.Hour - 2)\n",
    "                  select new\n",
    "                  {\n",
    "                      g.Date,\n",
    "                      g.Hour,\n",
    "                      g.Month,\n",
    "                      g.DayOfWeek,\n",
    "                      g.WeatherConditions,\n",
    "                      g.Calls,\n",
    "                      CallsPrevHour = prev?.Calls ?? 0,\n",
    "                      CallsPrevHour2 = prev2?.Calls ?? 0\n",
    "                  }).ToList();\n",
    "  \n"
   ]
  },
  {
   "cell_type": "markdown",
   "metadata": {},
   "source": [
    "### Export to CSV"
   ]
  },
  {
   "cell_type": "code",
   "execution_count": 22,
   "metadata": {},
   "outputs": [],
   "source": [
    "using CsvHelper;\n",
    "\n",
    "using (var writer = new System.IO.StreamWriter(\"data\\\\calls-previous.csv\"))\n",
    "using (var csv = new CsvWriter(writer, System.Globalization.CultureInfo.InvariantCulture))\n",
    "{    \n",
    "    csv.WriteRecords(addPrevious);\n",
    "}"
   ]
  }
 ],
 "metadata": {
  "kernelspec": {
   "display_name": ".NET (C#)",
   "language": "C#",
   "name": ".net-csharp"
  },
  "language_info": {
   "file_extension": ".cs",
   "mimetype": "text/x-csharp",
   "name": "C#",
   "pygments_lexer": "csharp",
   "version": "8.0"
  }
 },
 "nbformat": 4,
 "nbformat_minor": 2
}
