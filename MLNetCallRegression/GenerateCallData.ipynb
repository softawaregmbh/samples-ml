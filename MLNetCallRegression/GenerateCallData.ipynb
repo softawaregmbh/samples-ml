{
 "cells": [
  {
   "cell_type": "markdown",
   "metadata": {},
   "source": [
    "# Generate test data simulating calls in an emergency dispatch center"
   ]
  },
  {
   "cell_type": "markdown",
   "metadata": {},
   "source": [
    "### Install NuGet-Packages +  Using-Statements"
   ]
  },
  {
   "cell_type": "code",
   "execution_count": null,
   "metadata": {
    "scrolled": true
   },
   "outputs": [],
   "source": [
    "#r \"nuget:MathNet.Numerics\"\n",
    "#r \"nuget:CsvHelper\""
   ]
  },
  {
   "cell_type": "code",
   "execution_count": null,
   "metadata": {},
   "outputs": [],
   "source": [
    "using MathNet.Numerics.Distributions;\n",
    "using XPlot.Plotly;"
   ]
  },
  {
   "cell_type": "markdown",
   "metadata": {},
   "source": [
    "### Model class"
   ]
  },
  {
   "cell_type": "code",
   "execution_count": null,
   "metadata": {},
   "outputs": [],
   "source": [
    "class Call \n",
    "{\n",
    "    public DateTime Date { get; set; }\n",
    "    \n",
    "    public int Month { get; set; }\n",
    "    \n",
    "    public string DayOfWeek { get; set; }\n",
    "        \n",
    "    public int Hour { get; set; }\n",
    "    \n",
    "    public string WeatherConditions { get; set; }\n",
    "}"
   ]
  },
  {
   "cell_type": "markdown",
   "metadata": {},
   "source": [
    "### Generate random data for one day"
   ]
  },
  {
   "cell_type": "code",
   "execution_count": null,
   "metadata": {},
   "outputs": [],
   "source": [
    "var random = new Random();\n",
    "\n",
    "private IEnumerable<Call> GenerateDay(DateTime date)\n",
    "{\n",
    "    double callCount = 500+random.Next(100);\n",
    "    \n",
    "    // up to 20 % more calls between November and February\n",
    "    if (date.Month >= 11 || date.Month <= 2)\n",
    "    {\n",
    "        callCount *= 1 + random.NextDouble() * 0.2;\n",
    "    }\n",
    "    \n",
    "    string weatherConditions = random.NextDouble() > 0.7 ? \"bad\" : \"good\";\n",
    "    \n",
    "    // 40-60 % more calls when bad weather conditions occur\n",
    "    if (weatherConditions == \"bad\")\n",
    "    {\n",
    "        callCount *= 1.4 + random.NextDouble() * 0.2;\n",
    "    }\n",
    "    \n",
    "    var weekDayFactor = new Dictionary<DayOfWeek, float>()\n",
    "    {\n",
    "        { DayOfWeek.Monday, 1.4f },\n",
    "        { DayOfWeek.Tuesday, 1.2f },\n",
    "        { DayOfWeek.Wednesday, 1.0f },\n",
    "        { DayOfWeek.Thursday, 1.2f },\n",
    "        { DayOfWeek.Friday, 1.4f },\n",
    "        { DayOfWeek.Saturday, 0.8f },\n",
    "        { DayOfWeek.Sunday, 0.3f },\n",
    "    };\n",
    "    \n",
    "    // consider day of week factor\n",
    "    callCount *= weekDayFactor[date.DayOfWeek];\n",
    "    \n",
    "    Normal normalDist = new Normal(11, 3);\n",
    "    var values = normalDist.Samples().Take((int)Math.Floor(callCount)).ToList();\n",
    "\n",
    "    var calls = values.Select(v => new Call()\n",
    "    {\n",
    "        Date = date.Date,\n",
    "        Month = date.Month,\n",
    "        DayOfWeek = date.DayOfWeek.ToString(),\n",
    "        Hour = (int)Math.Round(v),\n",
    "        WeatherConditions = weatherConditions\n",
    "    }).ToList();\n",
    "    \n",
    "    return calls;\n",
    "}\n"
   ]
  },
  {
   "cell_type": "markdown",
   "metadata": {},
   "source": [
    "### Generate one year"
   ]
  },
  {
   "cell_type": "code",
   "execution_count": null,
   "metadata": {},
   "outputs": [],
   "source": [
    "DateTime currentDate = new DateTime(2019, 1, 1);\n",
    "var calls = new List<Call>();\n",
    "\n",
    "for (int i=0; i<365; i++) \n",
    "{\n",
    "   calls.AddRange(GenerateDay(currentDate));\n",
    "   currentDate = currentDate.AddDays(1);\n",
    "}\n",
    "\n",
    "calls.Count"
   ]
  },
  {
   "cell_type": "markdown",
   "metadata": {},
   "source": [
    "### Visualize generated data"
   ]
  },
  {
   "cell_type": "code",
   "execution_count": null,
   "metadata": {},
   "outputs": [],
   "source": [
    "using System.Linq;\n",
    "\n",
    "var callsByDate = calls.GroupBy(c => c.Date).ToDictionary(c => c.Key, c => c.Count());\n",
    "\n",
    "Chart.Plot(\n",
    "    new Graph.Scatter() {\n",
    "        x = callsByDate.Keys,\n",
    "        y = callsByDate.Values\n",
    "    }\n",
    ")"
   ]
  },
  {
   "cell_type": "markdown",
   "metadata": {},
   "source": [
    "### Group generated calls by hour"
   ]
  },
  {
   "cell_type": "code",
   "execution_count": null,
   "metadata": {},
   "outputs": [],
   "source": [
    "using System.Linq;\n",
    "\n",
    "var groupedByHour = (from c in calls\n",
    "                     group c by new\n",
    "                     {\n",
    "                         c.Date,\n",
    "                         c.Hour,\n",
    "                         c.WeatherConditions\n",
    "                     }\n",
    "                     into grouped\n",
    "                     orderby grouped.Key.Date, grouped.Key.Hour\n",
    "                     select new\n",
    "                     {\n",
    "                         Date = grouped.Key.Date,\n",
    "                         Hour = grouped.Key.Hour,\n",
    "                         Month = grouped.Key.Date.Month,\n",
    "                         DayOfWeek = grouped.Key.Date.DayOfWeek.ToString(),\n",
    "                         WeatherConditions = grouped.Key.WeatherConditions,\n",
    "                         Calls = grouped.Count()\n",
    "                     }).ToList();\n",
    "\n",
    "groupedByHour.Take(100)"
   ]
  },
  {
   "cell_type": "markdown",
   "metadata": {},
   "source": [
    "### Export to CSV"
   ]
  },
  {
   "cell_type": "code",
   "execution_count": null,
   "metadata": {},
   "outputs": [],
   "source": [
    "using CsvHelper;\n",
    "\n",
    "using (var writer = new System.IO.StreamWriter(\"data\\\\calls.csv\"))\n",
    "using (var csv = new CsvWriter(writer, System.Globalization.CultureInfo.InvariantCulture))\n",
    "{    \n",
    "    csv.WriteRecords(groupedByHour);\n",
    "}"
   ]
  },
  {
   "cell_type": "markdown",
   "metadata": {},
   "source": [
    "### Add columns with data from previous hours"
   ]
  },
  {
   "cell_type": "code",
   "execution_count": null,
   "metadata": {},
   "outputs": [],
   "source": [
    "var addPrevious = (from g in groupedByHour\n",
    "                  let prev = groupedByHour.FirstOrDefault(p => p.Date == g.Date && p.Hour == g.Hour - 1)\n",
    "                  let prev2 = groupedByHour.FirstOrDefault(p => p.Date == g.Date && p.Hour == g.Hour - 2)\n",
    "                  select new\n",
    "                  {\n",
    "                      g.Date,\n",
    "                      g.Hour,\n",
    "                      g.Month,\n",
    "                      g.DayOfWeek,\n",
    "                      g.WeatherConditions,\n",
    "                      g.Calls,\n",
    "                      CallsPrevHour = prev?.Calls ?? 0,\n",
    "                      CallsPrevHour2 = prev2?.Calls ?? 0\n",
    "                  }).ToList();\n",
    "  \n"
   ]
  },
  {
   "cell_type": "markdown",
   "metadata": {},
   "source": [
    "### Export to CSV"
   ]
  },
  {
   "cell_type": "code",
   "execution_count": null,
   "metadata": {},
   "outputs": [],
   "source": [
    "using CsvHelper;\n",
    "\n",
    "using (var writer = new System.IO.StreamWriter(\"data\\\\calls-previous.csv\"))\n",
    "using (var csv = new CsvWriter(writer, System.Globalization.CultureInfo.InvariantCulture))\n",
    "{    \n",
    "    csv.WriteRecords(addPrevious);\n",
    "}"
   ]
  }
 ],
 "metadata": {
  "kernelspec": {
   "display_name": ".NET (C#)",
   "language": "C#",
   "name": ".net-csharp"
  },
  "language_info": {
   "file_extension": ".cs",
   "mimetype": "text/x-csharp",
   "name": "C#",
   "pygments_lexer": "csharp",
   "version": "8.0"
  }
 },
 "nbformat": 4,
 "nbformat_minor": 2
}
