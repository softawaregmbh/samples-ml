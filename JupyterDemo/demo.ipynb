{
 "cells": [
  {
   "cell_type": "code",
   "execution_count": 3,
   "metadata": {},
   "outputs": [
    {
     "data": {
      "text/html": [
       "Installing package XPlot.Plotly, version 2.0.0................done!"
      ]
     },
     "metadata": {},
     "output_type": "display_data"
    },
    {
     "data": {
      "text/html": [
       "Successfully added reference to package XPlot.Plotly, version "
      ]
     },
     "metadata": {},
     "output_type": "display_data"
    }
   ],
   "source": [
    "#r \"nuget:XPlot.Plotly,2.0.0\"\n",
    "\n",
    "using XPlot.Plotly;\n"
   ]
  },
  {
   "cell_type": "code",
   "execution_count": 8,
   "metadata": {},
   "outputs": [
    {
     "data": {
      "text/html": [
       "<table><thead><tr><th><i>index</i></th><th>value</th></tr></thead><tbody><tr><td>0</td><td>3</td></tr><tr><td>1</td><td>3</td></tr><tr><td>2</td><td>8</td></tr><tr><td>3</td><td>10</td></tr><tr><td>4</td><td>17</td></tr><tr><td>5</td><td>20</td></tr><tr><td>6</td><td>23</td></tr><tr><td>7</td><td>28</td></tr><tr><td>8</td><td>28</td></tr><tr><td>9</td><td>36</td></tr><tr><td>10</td><td>37</td></tr><tr><td>11</td><td>41</td></tr><tr><td>12</td><td>47</td></tr><tr><td>13</td><td>55</td></tr><tr><td>14</td><td>55</td></tr><tr><td>15</td><td>56</td></tr><tr><td>16</td><td>57</td></tr><tr><td>17</td><td>61</td></tr><tr><td>18</td><td>68</td></tr><tr><td>19</td><td>72</td></tr><tr><td>20</td><td>74</td></tr><tr><td>21</td><td>83</td></tr><tr><td>22</td><td>84</td></tr><tr><td>23</td><td>87</td></tr><tr><td>24</td><td>88</td></tr><tr><td>25</td><td>88</td></tr><tr><td>26</td><td>88</td></tr><tr><td>27</td><td>91</td></tr><tr><td>28</td><td>91</td></tr><tr><td>29</td><td>98</td></tr><tr><td>30</td><td>100</td></tr><tr><td>31</td><td>103</td></tr><tr><td>32</td><td>106</td></tr><tr><td>33</td><td>113</td></tr><tr><td>34</td><td>113</td></tr><tr><td>35</td><td>113</td></tr><tr><td>36</td><td>116</td></tr><tr><td>37</td><td>123</td></tr><tr><td>38</td><td>127</td></tr><tr><td>39</td><td>129</td></tr><tr><td>40</td><td>131</td></tr><tr><td>41</td><td>140</td></tr><tr><td>42</td><td>140</td></tr><tr><td>43</td><td>148</td></tr><tr><td>44</td><td>148</td></tr><tr><td>45</td><td>148</td></tr><tr><td>46</td><td>156</td></tr><tr><td>47</td><td>163</td></tr><tr><td>48</td><td>165</td></tr><tr><td>49</td><td>165</td></tr><tr><td>50</td><td>166</td></tr><tr><td>51</td><td>173</td></tr><tr><td>52</td><td>175</td></tr><tr><td>53</td><td>180</td></tr><tr><td>54</td><td>180</td></tr><tr><td>55</td><td>183</td></tr><tr><td>56</td><td>192</td></tr><tr><td>57</td><td>193</td></tr><tr><td>58</td><td>193</td></tr><tr><td>59</td><td>199</td></tr><tr><td>60</td><td>202</td></tr><tr><td>61</td><td>202</td></tr><tr><td>62</td><td>207</td></tr><tr><td>63</td><td>209</td></tr><tr><td>64</td><td>214</td></tr><tr><td>65</td><td>222</td></tr><tr><td>66</td><td>223</td></tr><tr><td>67</td><td>232</td></tr><tr><td>68</td><td>240</td></tr><tr><td>69</td><td>249</td></tr><tr><td>70</td><td>257</td></tr><tr><td>71</td><td>260</td></tr><tr><td>72</td><td>269</td></tr><tr><td>73</td><td>274</td></tr><tr><td>74</td><td>276</td></tr><tr><td>75</td><td>278</td></tr><tr><td>76</td><td>287</td></tr><tr><td>77</td><td>289</td></tr><tr><td>78</td><td>292</td></tr><tr><td>79</td><td>293</td></tr><tr><td>80</td><td>295</td></tr><tr><td>81</td><td>298</td></tr><tr><td>82</td><td>299</td></tr><tr><td>83</td><td>308</td></tr><tr><td>84</td><td>314</td></tr><tr><td>85</td><td>319</td></tr><tr><td>86</td><td>319</td></tr><tr><td>87</td><td>326</td></tr><tr><td>88</td><td>332</td></tr><tr><td>89</td><td>338</td></tr><tr><td>90</td><td>339</td></tr><tr><td>91</td><td>340</td></tr><tr><td>92</td><td>347</td></tr><tr><td>93</td><td>355</td></tr><tr><td>94</td><td>364</td></tr><tr><td>95</td><td>366</td></tr><tr><td>96</td><td>370</td></tr><tr><td>97</td><td>378</td></tr><tr><td>98</td><td>381</td></tr><tr><td>99</td><td>383</td></tr></tbody></table>"
      ]
     },
     "metadata": {},
     "output_type": "display_data"
    }
   ],
   "source": [
    "\n",
    "\n",
    "Random random = new Random();\n",
    "\n",
    "var numbers = new List<int>();\n",
    "\n",
    "var currentNumber = 0;\n",
    "\n",
    "for (int i = 0; i<100; i++) \n",
    "{\n",
    "    currentNumber = currentNumber + random.Next(0,10);\n",
    "    numbers.Add(currentNumber);\n",
    "}\n",
    "\n",
    "display(numbers);"
   ]
  },
  {
   "cell_type": "code",
   "execution_count": 9,
   "metadata": {},
   "outputs": [
    {
     "data": {
      "text/html": [
       "<div id=\"b652de54-05af-4126-9332-2854db2c20f9\" style=\"width: 900px; height: 500px;\"></div><script type=\"text/javascript\">\r\n",
       "\r\n",
       "var renderPlotly = function() {\r\n",
       "    var xplotRequire = requirejs.config({context:'xplot-2.0.0',paths:{plotly:'https://cdn.plot.ly/plotly-1.49.2.min'}});\r\n",
       "    xplotRequire(['plotly'], function(Plotly) {\r\n",
       "\n",
       "            var data = [{\"type\":\"scatter\",\"y\":[3,3,8,10,17,20,23,28,28,36,37,41,47,55,55,56,57,61,68,72,74,83,84,87,88,88,88,91,91,98,100,103,106,113,113,113,116,123,127,129,131,140,140,148,148,148,156,163,165,165,166,173,175,180,180,183,192,193,193,199,202,202,207,209,214,222,223,232,240,249,257,260,269,274,276,278,287,289,292,293,295,298,299,308,314,319,319,326,332,338,339,340,347,355,364,366,370,378,381,383]}];\n",
       "            var layout = \"\";\n",
       "            Plotly.newPlot('b652de54-05af-4126-9332-2854db2c20f9', data, layout);\n",
       "        });\r\n",
       "};\r\n",
       "if ((typeof(requirejs) !==  typeof(Function)) || (typeof(requirejs.config) !== typeof(Function))) { \r\n",
       "    var script = document.createElement(\"script\"); \r\n",
       "    script.setAttribute(\"src\", \"https://cdnjs.cloudflare.com/ajax/libs/require.js/2.3.6/require.min.js\"); \r\n",
       "    script.onload = function(){\r\n",
       "        renderPlotly();\r\n",
       "    };\r\n",
       "    document.getElementsByTagName(\"head\")[0].appendChild(script); \r\n",
       "}\r\n",
       "else {\r\n",
       "    renderPlotly();\r\n",
       "}\r\n",
       "</script>"
      ]
     },
     "metadata": {},
     "output_type": "display_data"
    }
   ],
   "source": [
    "var chart = Chart.Plot(\n",
    "    new Graph.Scatter()\n",
    "    {\n",
    "        y = numbers\n",
    "    }\n",
    ");\n",
    "\n",
    "display(chart);\n"
   ]
  }
 ],
 "metadata": {
  "kernelspec": {
   "display_name": ".NET (C#)",
   "language": "C#",
   "name": ".net-csharp"
  },
  "language_info": {
   "file_extension": ".cs",
   "mimetype": "text/x-csharp",
   "name": "C#",
   "pygments_lexer": "csharp",
   "version": "8.0"
  }
 },
 "nbformat": 4,
 "nbformat_minor": 2
}
