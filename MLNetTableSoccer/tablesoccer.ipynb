{
 "cells": [
  {
   "cell_type": "code",
   "execution_count": 1,
   "metadata": {},
   "outputs": [
    {
     "data": {
      "text/html": [
       "Installing package Microsoft.Data.Analysis, version 0.2.0.....................done!"
      ]
     },
     "metadata": {},
     "output_type": "display_data"
    },
    {
     "data": {
      "text/html": [
       "Successfully added reference to package Microsoft.Data.Analysis, version "
      ]
     },
     "metadata": {},
     "output_type": "display_data"
    },
    {
     "data": {
      "text/html": [
       "Installing package Microsoft.ML, version 1.4.0........done!"
      ]
     },
     "metadata": {},
     "output_type": "display_data"
    },
    {
     "data": {
      "text/html": [
       "Successfully added reference to package Microsoft.ML, version "
      ]
     },
     "metadata": {},
     "output_type": "display_data"
    },
    {
     "data": {
      "text/html": [
       "Installing package Microsoft.ML.AutoML, version 0.16.0.......done!"
      ]
     },
     "metadata": {},
     "output_type": "display_data"
    },
    {
     "data": {
      "text/html": [
       "Successfully added reference to package Microsoft.ML.AutoML, version "
      ]
     },
     "metadata": {},
     "output_type": "display_data"
    }
   ],
   "source": [
    "#r \"nuget:Microsoft.Data.Analysis,0.2.0\"\n",
    "#r \"nuget:Microsoft.ML,1.4.0\"\n",
    "#r \"nuget:Microsoft.ML.AutoML,0.16.0\""
   ]
  },
  {
   "cell_type": "code",
   "execution_count": 2,
   "metadata": {},
   "outputs": [],
   "source": [
    "using Microsoft.Data.Analysis;\n",
    "using XPlot.Plotly;"
   ]
  },
  {
   "cell_type": "markdown",
   "metadata": {},
   "source": [
    "### Introduction to DataFrame\n",
    "https://devblogs.microsoft.com/dotnet/an-introduction-to-dataframe/"
   ]
  },
  {
   "cell_type": "code",
   "execution_count": 3,
   "metadata": {},
   "outputs": [],
   "source": [
    "using Microsoft.AspNetCore.Html;\n",
    "Formatter<DataFrame>.Register((df, writer) =>\n",
    "{\n",
    "    var headers = new List<IHtmlContent>();\n",
    "    headers.Add(th(i(\"index\")));\n",
    "    headers.AddRange(df.Columns.Select(c => (IHtmlContent) th(c.Name)));\n",
    "    var rows = new List<List<IHtmlContent>>();\n",
    "    var take = 20;\n",
    "    for (var i = 0; i < Math.Min(take, df.Rows.Count); i++)\n",
    "    {\n",
    "        var cells = new List<IHtmlContent>();\n",
    "        cells.Add(td(i));\n",
    "        foreach (var obj in df.Rows[i])\n",
    "        {\n",
    "            cells.Add(td(obj));\n",
    "        }\n",
    "        rows.Add(cells);\n",
    "    }\n",
    "    \n",
    "    var t = table(\n",
    "        thead(\n",
    "            headers),\n",
    "        tbody(\n",
    "            rows.Select(\n",
    "                r => tr(r))));\n",
    "    \n",
    "    writer.Write(t);\n",
    "}, \"text/html\");"
   ]
  },
  {
   "cell_type": "code",
   "execution_count": 11,
   "metadata": {},
   "outputs": [],
   "source": [
    "string fileName = @\"D:\\softaware\\samples-ml\\data\\tablesoccer-export.csv\";\n",
    "\n",
    "var tablesoccerData = DataFrame.LoadCsv(fileName);"
   ]
  },
  {
   "cell_type": "code",
   "execution_count": 7,
   "metadata": {
    "scrolled": true
   },
   "outputs": [
    {
     "data": {
      "text/html": [
       "<table><thead><th><i>index</i></th><th>Description</th><th>Hour</th><th>GoalsTeam1</th><th>GoalsTeam2</th><th>GoalDifference</th><th>Result</th></thead><tbody><tr><td>0</td><td>Length (excluding null values)</td><td>1001</td><td>1001</td><td>1001</td><td>1001</td><td>1001</td></tr><tr><td>1</td><td>Max</td><td>0</td><td>5</td><td>5</td><td>5</td><td>2</td></tr><tr><td>2</td><td>Min</td><td>0</td><td>0</td><td>0</td><td>-5</td><td>1</td></tr><tr><td>3</td><td>Mean</td><td>0</td><td>3.856144</td><td>3.7452548</td><td>0.110889114</td><td>1.4565434</td></tr></tbody></table>"
      ]
     },
     "execution_count": 7,
     "metadata": {},
     "output_type": "execute_result"
    }
   ],
   "source": [
    "tablesoccerData.Description()"
   ]
  },
  {
   "cell_type": "code",
   "execution_count": 8,
   "metadata": {
    "scrolled": true
   },
   "outputs": [
    {
     "data": {
      "text/html": [
       "0.1108891108891109"
      ]
     },
     "metadata": {},
     "output_type": "display_data"
    },
    {
     "data": {
      "text/html": [
       "1"
      ]
     },
     "metadata": {},
     "output_type": "display_data"
    },
    {
     "data": {
      "text/html": [
       "<table><thead><th><i>index</i></th><th>Values</th><th>Counts</th></thead><tbody><tr><td>0</td><td>1</td><td>220</td></tr><tr><td>1</td><td>-1</td><td>141</td></tr><tr><td>2</td><td>-3</td><td>94</td></tr><tr><td>3</td><td>3</td><td>84</td></tr><tr><td>4</td><td>5</td><td>66</td></tr><tr><td>5</td><td>-2</td><td>112</td></tr><tr><td>6</td><td>2</td><td>121</td></tr><tr><td>7</td><td>4</td><td>53</td></tr><tr><td>8</td><td>-4</td><td>52</td></tr><tr><td>9</td><td>-5</td><td>58</td></tr></tbody></table>"
      ]
     },
     "execution_count": 8,
     "metadata": {},
     "output_type": "execute_result"
    }
   ],
   "source": [
    "display(tablesoccerData[\"GoalDifference\"].Mean());\n",
    "display(tablesoccerData[\"GoalDifference\"].Median());\n",
    "\n",
    "\n",
    "tablesoccerData[\"GoalDifference\"].ValueCounts()"
   ]
  },
  {
   "cell_type": "code",
   "execution_count": null,
   "metadata": {
    "scrolled": true
   },
   "outputs": [],
   "source": [
    "tablesoccerData"
   ]
  },
  {
   "cell_type": "code",
   "execution_count": 9,
   "metadata": {
    "scrolled": true
   },
   "outputs": [
    {
     "data": {
      "text/html": [
       "<div id=\"39b7302f-2733-4044-a886-e5152974b723\" style=\"width: 900px; height: 500px;\"></div><script type=\"text/javascript\">\r\n",
       "\r\n",
       "var renderPlotly = function() {\r\n",
       "    var xplotRequire = requirejs.config({context:'xplot-2.0.0',paths:{plotly:'https://cdn.plot.ly/plotly-1.49.2.min'}});\r\n",
       "    xplotRequire(['plotly'], function(Plotly) {\r\n",
       "\n",
       "            var data = [{\"type\":\"histogram\",\"x\":[0.0,0.0,0.0,0.0,0.0,0.0,0.0,0.0,0.0,0.0,0.0,0.0,0.0,0.0,0.0,0.0,0.0,0.0,0.0,0.0,0.0,0.0,0.0,0.0,0.0,0.0,0.0,0.0,0.0,0.0,0.0,0.0,0.0,0.0,0.0,0.0,0.0,0.0,0.0,0.0,0.0,0.0,0.0,0.0,0.0,0.0,0.0,0.0,0.0,0.0,0.0,0.0,0.0,0.0,0.0,0.0,0.0,0.0,0.0,0.0,0.0,0.0,0.0,0.0,0.0,0.0,0.0,0.0,0.0,0.0,0.0,0.0,0.0,0.0,0.0,0.0,0.0,0.0,0.0,0.0,0.0,0.0,0.0,0.0,0.0,0.0,0.0,0.0,0.0,0.0,0.0,0.0,0.0,0.0,0.0,0.0,0.0,0.0,0.0,0.0,0.0,0.0,0.0,0.0,0.0,0.0,0.0,0.0,0.0,0.0,0.0,0.0,0.0,0.0,0.0,0.0,0.0,0.0,0.0,0.0,0.0,0.0,0.0,0.0,0.0,0.0,0.0,0.0,0.0,0.0,0.0,0.0,0.0,0.0,0.0,0.0,0.0,0.0,0.0,0.0,0.0,0.0,0.0,0.0,0.0,0.0,0.0,0.0,0.0,0.0,0.0,0.0,0.0,0.0,0.0,0.0,0.0,0.0,0.0,0.0,0.0,0.0,0.0,0.0,0.0,0.0,0.0,0.0,0.0,0.0,0.0,0.0,0.0,0.0,0.0,0.0,0.0,0.0,0.0,0.0,0.0,0.0,0.0,0.0,0.0,0.0,0.0,0.0,0.0,0.0,0.0,0.0,0.0,0.0,0.0,0.0,0.0,0.0,0.0,0.0,0.0,0.0,0.0,0.0,0.0,0.0,0.0,0.0,0.0,0.0,0.0,0.0,0.0,0.0,0.0,0.0,0.0,0.0,0.0,0.0,0.0,0.0,0.0,0.0,0.0,0.0,0.0,0.0,0.0,0.0,0.0,0.0,0.0,0.0,0.0,0.0,0.0,0.0,0.0,0.0,0.0,0.0,0.0,0.0,0.0,0.0,0.0,0.0,0.0,0.0,0.0,0.0,0.0,0.0,0.0,0.0,0.0,0.0,0.0,0.0,0.0,0.0,0.0,0.0,0.0,0.0,0.0,0.0,0.0,0.0,0.0,0.0,0.0,0.0,0.0,0.0,0.0,0.0,0.0,0.0,0.0,0.0,0.0,0.0,0.0,0.0,0.0,0.0,0.0,0.0,0.0,0.0,0.0,0.0,0.0,0.0,0.0,0.0,0.0,0.0,0.0,0.0,0.0,0.0,0.0,0.0,0.0,0.0,0.0,0.0,0.0,0.0,0.0,0.0,0.0,0.0,0.0,0.0,0.0,0.0,0.0,0.0,0.0,0.0,0.0,0.0,0.0,0.0,0.0,0.0,0.0,0.0,0.0,0.0,0.0,0.0,0.0,0.0,0.0,0.0,0.0,0.0,0.0,0.0,0.0,0.0,0.0,0.0,0.0,0.0,0.0,0.0,0.0,0.0,0.0,0.0,0.0,0.0,0.0,0.0,0.0,0.0,0.0,0.0,0.0,0.0,0.0,0.0,0.0,0.0,0.0,0.0,0.0,0.0,0.0,0.0,0.0,0.0,0.0,0.0,0.0,0.0,0.0,0.0,0.0,0.0,0.0,0.0,0.0,0.0,0.0,0.0,0.0,0.0,0.0,0.0,0.0,0.0,0.0,0.0,0.0,0.0,0.0,0.0,0.0,0.0,0.0,0.0,0.0,0.0,0.0,0.0,0.0,0.0,0.0,0.0,0.0,0.0,0.0,0.0,0.0,0.0,0.0,0.0,0.0,0.0,0.0,0.0,0.0,0.0,0.0,0.0,0.0,0.0,0.0,0.0,0.0,0.0,0.0,0.0,0.0,0.0,0.0,0.0,0.0,0.0,0.0,0.0,0.0,0.0,0.0,0.0,0.0,0.0,0.0,0.0,0.0,0.0,0.0,0.0,0.0,0.0,0.0,0.0,0.0,0.0,0.0,0.0,0.0,0.0,0.0,0.0,0.0,0.0,0.0,0.0,0.0,0.0,0.0,0.0,0.0,0.0,0.0,0.0,0.0,0.0,0.0,0.0,0.0,0.0,0.0,0.0,0.0,0.0,0.0,0.0,0.0,0.0,0.0,0.0,0.0,0.0,0.0,0.0,0.0,0.0,0.0,0.0,0.0,0.0,0.0,0.0,0.0,0.0,0.0,0.0,0.0,0.0,0.0,0.0,0.0,0.0,0.0,0.0,0.0,0.0,0.0,0.0,0.0,0.0,0.0,0.0,0.0,0.0,0.0,0.0,0.0,0.0,0.0,0.0,0.0,0.0,0.0,0.0,0.0,0.0,0.0,0.0,0.0,0.0,0.0,0.0,0.0,0.0,0.0,0.0,0.0,0.0,0.0,0.0,0.0,0.0,0.0,0.0,0.0,0.0,0.0,0.0,0.0,0.0,0.0,0.0,0.0,0.0,0.0,0.0,0.0,0.0,0.0,0.0,0.0,0.0,0.0,0.0,0.0,0.0,0.0,0.0,0.0,0.0,0.0,0.0,0.0,0.0,0.0,0.0,0.0,0.0,0.0,0.0,0.0,0.0,0.0,0.0,0.0,0.0,0.0,0.0,0.0,0.0,0.0,0.0,0.0,0.0,0.0,0.0,0.0,0.0,0.0,0.0,0.0,0.0,0.0,0.0,0.0,0.0,0.0,0.0,0.0,0.0,0.0,0.0,0.0,0.0,0.0,0.0,0.0,0.0,0.0,0.0,0.0,0.0,0.0,0.0,0.0,0.0,0.0,0.0,0.0,0.0,0.0,0.0,0.0,0.0,0.0,0.0,0.0,0.0,0.0,0.0,0.0,0.0,0.0,0.0,0.0,0.0,0.0,0.0,0.0,0.0,0.0,0.0,0.0,0.0,0.0,0.0,0.0,0.0,0.0,0.0,0.0,0.0,0.0,0.0,0.0,0.0,0.0,0.0,0.0,0.0,0.0,0.0,0.0,0.0,0.0,0.0,0.0,0.0,0.0,0.0,0.0,0.0,0.0,0.0,0.0,0.0,0.0,0.0,0.0,0.0,0.0,0.0,0.0,0.0,0.0,0.0,0.0,0.0,0.0,0.0,0.0,0.0,0.0,0.0,0.0,0.0,0.0,0.0,0.0,0.0,0.0,0.0,0.0,0.0,0.0,0.0,0.0,0.0,0.0,0.0,0.0,0.0,0.0,0.0,0.0,0.0,0.0,0.0,0.0,0.0,0.0,0.0,0.0,0.0,0.0,0.0,0.0,0.0,0.0,0.0,0.0,0.0,0.0,0.0,0.0,0.0,0.0,0.0,0.0,0.0,0.0,0.0,0.0,0.0,0.0,0.0,0.0,0.0,0.0,0.0,0.0,0.0,0.0,0.0,0.0,0.0,0.0,0.0,0.0,0.0,0.0,0.0,0.0,0.0,0.0,0.0,0.0,0.0,0.0,0.0,0.0,0.0,0.0,0.0,0.0,0.0,0.0,0.0,0.0,0.0,0.0,0.0,0.0,0.0,0.0,0.0,0.0,0.0,0.0,0.0,0.0,0.0,0.0,0.0,0.0,0.0,0.0,0.0,0.0,0.0,0.0,0.0,0.0,0.0,0.0,0.0,0.0,0.0,0.0,0.0,0.0,0.0,0.0,0.0,0.0,0.0,0.0,0.0,0.0,0.0,0.0,0.0,0.0,0.0,0.0,0.0,0.0,0.0,0.0,0.0,0.0,0.0,0.0,0.0,0.0,0.0,0.0,0.0,0.0,0.0,0.0,0.0,0.0,0.0,0.0,0.0,0.0,0.0,0.0,0.0,0.0,0.0,0.0,0.0,0.0,0.0,0.0,0.0,0.0,0.0,0.0,0.0,0.0,0.0,0.0,0.0,0.0,0.0,0.0,0.0,0.0,0.0,0.0,0.0,0.0,0.0,0.0,0.0,0.0,0.0,0.0,0.0,0.0,0.0,0.0,0.0,0.0,0.0,0.0,0.0,0.0,0.0,0.0,0.0,0.0,0.0,0.0,0.0,0.0,0.0,0.0,0.0,0.0,0.0,0.0,0.0,0.0,0.0,0.0,0.0,0.0,0.0,0.0,0.0,0.0,0.0,0.0,0.0,0.0,0.0,0.0,0.0,0.0,0.0,0.0,0.0,0.0,0.0,0.0,0.0,0.0,0.0,0.0,0.0,0.0,0.0,0.0,0.0,0.0,0.0,0.0,0.0,0.0,0.0,0.0,0.0,0.0,0.0,0.0,0.0,0.0,0.0,0.0,0.0,0.0,0.0,0.0,0.0,0.0,0.0,0.0,0.0,0.0,0.0,0.0,0.0,0.0,0.0,0.0,0.0,0.0]}];\n",
       "            var layout = \"\";\n",
       "            Plotly.newPlot('39b7302f-2733-4044-a886-e5152974b723', data, layout);\n",
       "        });\r\n",
       "};\r\n",
       "if ((typeof(requirejs) !==  typeof(Function)) || (typeof(requirejs.config) !== typeof(Function))) { \r\n",
       "    var script = document.createElement(\"script\"); \r\n",
       "    script.setAttribute(\"src\", \"https://cdnjs.cloudflare.com/ajax/libs/require.js/2.3.6/require.min.js\"); \r\n",
       "    script.onload = function(){\r\n",
       "        renderPlotly();\r\n",
       "    };\r\n",
       "    document.getElementsByTagName(\"head\")[0].appendChild(script); \r\n",
       "}\r\n",
       "else {\r\n",
       "    renderPlotly();\r\n",
       "}\r\n",
       "</script>"
      ]
     },
     "execution_count": 9,
     "metadata": {},
     "output_type": "execute_result"
    }
   ],
   "source": [
    "Chart.Plot(\n",
    "    new Graph.Histogram()\n",
    "    {\n",
    "        x = tablesoccerData[\"Hour\"]\n",
    "    }\n",
    ")"
   ]
  },
  {
   "cell_type": "code",
   "execution_count": 12,
   "metadata": {
    "scrolled": true
   },
   "outputs": [
    {
     "data": {
      "text/html": [
       "<div id=\"8fdf144c-9eec-4b67-a4e3-8f57bb3932f6\" style=\"width: 900px; height: 500px;\"></div><script type=\"text/javascript\">\r\n",
       "\r\n",
       "var renderPlotly = function() {\r\n",
       "    var xplotRequire = requirejs.config({context:'xplot-2.0.0',paths:{plotly:'https://cdn.plot.ly/plotly-1.49.2.min'}});\r\n",
       "    xplotRequire(['plotly'], function(Plotly) {\r\n",
       "\n",
       "            var data = [{\"type\":\"histogram\",\"x\":[5.0,5.0,5.0,5.0,4.0,2.0,5.0,5.0,5.0,2.0,5.0,3.0,3.0,5.0,2.0,5.0,5.0,5.0,5.0,5.0,4.0,4.0,5.0,5.0,1.0,4.0,4.0,5.0,4.0,5.0,5.0,5.0,3.0,5.0,5.0,5.0,5.0,1.0,0.0,2.0,4.0,3.0,3.0,0.0,5.0,1.0,5.0,5.0,4.0,2.0,1.0,5.0,2.0,4.0,3.0,5.0,2.0,5.0,5.0,1.0,4.0,5.0,5.0,3.0,5.0,5.0,5.0,3.0,5.0,5.0,5.0,4.0,5.0,5.0,4.0,3.0,5.0,4.0,0.0,0.0,1.0,5.0,5.0,3.0,5.0,5.0,5.0,1.0,2.0,5.0,3.0,2.0,4.0,5.0,5.0,5.0,4.0,5.0,5.0,0.0,5.0,5.0,5.0,2.0,5.0,5.0,2.0,4.0,4.0,4.0,5.0,4.0,4.0,5.0,5.0,2.0,4.0,5.0,5.0,5.0,2.0,5.0,3.0,4.0,5.0,5.0,5.0,5.0,3.0,3.0,5.0,3.0,3.0,1.0,3.0,5.0,5.0,5.0,2.0,4.0,5.0,4.0,5.0,4.0,5.0,3.0,2.0,3.0,5.0,0.0,4.0,5.0,5.0,3.0,5.0,3.0,5.0,5.0,2.0,5.0,5.0,2.0,4.0,3.0,5.0,4.0,4.0,0.0,5.0,4.0,5.0,5.0,5.0,5.0,1.0,1.0,5.0,5.0,5.0,5.0,3.0,5.0,5.0,5.0,5.0,3.0,3.0,5.0,5.0,4.0,5.0,5.0,0.0,2.0,5.0,3.0,1.0,5.0,5.0,5.0,3.0,5.0,2.0,2.0,5.0,4.0,5.0,4.0,5.0,4.0,5.0,5.0,1.0,5.0,3.0,5.0,4.0,1.0,5.0,5.0,4.0,5.0,3.0,5.0,5.0,5.0,0.0,5.0,5.0,5.0,1.0,4.0,5.0,4.0,5.0,5.0,5.0,0.0,5.0,3.0,0.0,5.0,0.0,1.0,5.0,5.0,5.0,5.0,5.0,2.0,1.0,4.0,5.0,3.0,5.0,5.0,1.0,2.0,5.0,5.0,4.0,3.0,4.0,2.0,5.0,5.0,4.0,5.0,2.0,5.0,1.0,4.0,3.0,5.0,5.0,5.0,4.0,1.0,5.0,0.0,5.0,0.0,5.0,5.0,5.0,5.0,1.0,3.0,5.0,5.0,5.0,2.0,3.0,4.0,2.0,0.0,4.0,4.0,4.0,5.0,5.0,5.0,3.0,5.0,5.0,5.0,4.0,0.0,5.0,5.0,0.0,4.0,1.0,4.0,4.0,5.0,4.0,2.0,5.0,5.0,1.0,3.0,5.0,5.0,3.0,5.0,4.0,5.0,5.0,5.0,5.0,5.0,1.0,5.0,5.0,5.0,4.0,5.0,5.0,5.0,3.0,5.0,2.0,3.0,3.0,5.0,2.0,4.0,5.0,5.0,0.0,3.0,4.0,4.0,3.0,5.0,5.0,1.0,5.0,5.0,5.0,5.0,1.0,0.0,4.0,0.0,2.0,5.0,2.0,4.0,4.0,5.0,5.0,5.0,5.0,5.0,5.0,5.0,5.0,3.0,5.0,5.0,2.0,4.0,5.0,3.0,3.0,2.0,5.0,1.0,2.0,5.0,5.0,5.0,5.0,2.0,2.0,5.0,4.0,4.0,0.0,0.0,5.0,5.0,5.0,5.0,4.0,5.0,5.0,0.0,5.0,5.0,5.0,5.0,5.0,3.0,0.0,5.0,3.0,4.0,3.0,3.0,2.0,5.0,5.0,5.0,1.0,3.0,5.0,5.0,5.0,5.0,5.0,5.0,4.0,5.0,3.0,5.0,5.0,5.0,4.0,5.0,5.0,2.0,5.0,0.0,5.0,4.0,0.0,5.0,3.0,5.0,3.0,5.0,5.0,4.0,5.0,5.0,5.0,5.0,5.0,5.0,5.0,5.0,5.0,0.0,0.0,5.0,2.0,3.0,5.0,5.0,5.0,2.0,5.0,5.0,5.0,0.0,5.0,5.0,5.0,5.0,5.0,5.0,5.0,2.0,5.0,5.0,5.0,5.0,0.0,5.0,5.0,5.0,2.0,4.0,3.0,4.0,5.0,5.0,5.0,5.0,3.0,1.0,5.0,2.0,4.0,3.0,5.0,3.0,5.0,3.0,2.0,5.0,5.0,5.0,0.0,5.0,1.0,4.0,5.0,3.0,5.0,0.0,3.0,0.0,5.0,0.0,4.0,4.0,3.0,5.0,4.0,3.0,1.0,5.0,1.0,5.0,2.0,5.0,2.0,5.0,5.0,5.0,4.0,5.0,4.0,4.0,5.0,0.0,4.0,2.0,5.0,4.0,5.0,1.0,5.0,0.0,4.0,1.0,3.0,5.0,2.0,5.0,5.0,1.0,5.0,5.0,5.0,5.0,5.0,2.0,5.0,5.0,2.0,3.0,5.0,4.0,1.0,5.0,0.0,3.0,5.0,2.0,5.0,5.0,4.0,5.0,5.0,5.0,4.0,5.0,5.0,5.0,5.0,5.0,5.0,5.0,5.0,2.0,3.0,5.0,0.0,1.0,5.0,5.0,5.0,5.0,5.0,4.0,5.0,5.0,5.0,2.0,5.0,3.0,0.0,2.0,2.0,5.0,5.0,5.0,2.0,5.0,5.0,5.0,4.0,5.0,5.0,2.0,5.0,5.0,5.0,3.0,5.0,4.0,4.0,5.0,2.0,4.0,2.0,3.0,5.0,5.0,2.0,2.0,4.0,5.0,5.0,5.0,5.0,5.0,5.0,2.0,5.0,5.0,5.0,3.0,5.0,1.0,2.0,5.0,5.0,5.0,0.0,1.0,5.0,1.0,5.0,1.0,5.0,5.0,5.0,5.0,4.0,5.0,5.0,5.0,3.0,1.0,3.0,2.0,0.0,3.0,4.0,4.0,5.0,5.0,1.0,5.0,4.0,5.0,5.0,4.0,5.0,4.0,5.0,3.0,2.0,5.0,2.0,5.0,5.0,5.0,3.0,5.0,3.0,5.0,3.0,4.0,5.0,3.0,3.0,4.0,3.0,2.0,5.0,5.0,5.0,2.0,5.0,5.0,0.0,5.0,4.0,5.0,3.0,5.0,1.0,4.0,5.0,5.0,3.0,5.0,5.0,2.0,1.0,4.0,3.0,5.0,5.0,3.0,5.0,5.0,5.0,2.0,3.0,5.0,5.0,5.0,5.0,5.0,1.0,5.0,4.0,3.0,5.0,2.0,2.0,5.0,5.0,5.0,3.0,0.0,5.0,4.0,5.0,5.0,0.0,2.0,5.0,5.0,4.0,5.0,5.0,0.0,5.0,4.0,4.0,5.0,5.0,5.0,0.0,3.0,3.0,5.0,3.0,5.0,3.0,3.0,5.0,5.0,4.0,1.0,3.0,5.0,1.0,4.0,5.0,5.0,1.0,4.0,4.0,5.0,5.0,2.0,4.0,2.0,1.0,5.0,3.0,5.0,4.0,4.0,5.0,5.0,3.0,5.0,1.0,2.0,5.0,5.0,5.0,5.0,5.0,4.0,5.0,0.0,2.0,3.0,3.0,5.0,5.0,5.0,5.0,5.0,3.0,5.0,4.0,4.0,5.0,3.0,5.0,5.0,3.0,5.0,5.0,4.0,5.0,5.0,4.0,2.0,2.0,4.0,4.0,5.0,4.0,3.0,2.0,5.0,5.0,3.0,5.0,4.0,5.0,4.0,5.0,5.0,5.0,5.0,5.0,5.0,2.0,0.0,5.0,5.0,3.0,3.0,2.0,3.0,5.0,2.0,5.0,5.0,4.0,3.0,5.0,5.0,5.0,0.0,0.0,5.0,4.0,5.0,5.0,5.0,5.0,5.0,4.0,5.0,2.0,5.0,2.0,5.0,0.0,5.0,5.0,5.0,4.0,5.0,0.0,4.0,2.0,5.0,5.0,5.0,5.0,5.0,5.0,4.0,3.0,5.0,5.0,4.0,5.0,3.0,5.0,5.0,4.0,4.0,5.0,4.0,5.0,5.0,4.0,5.0,0.0,5.0,5.0,4.0,5.0,0.0,0.0,5.0,2.0,5.0,5.0,5.0,5.0,5.0,2.0,3.0,5.0,4.0,1.0,4.0,5.0,5.0,5.0,5.0,5.0,5.0,5.0,5.0,5.0,5.0,0.0,5.0,5.0,5.0,5.0,2.0,4.0,5.0,1.0,5.0,0.0,5.0,5.0,0.0,5.0,5.0,5.0,5.0,4.0,2.0,5.0,5.0,2.0,3.0,5.0,2.0,5.0,2.0,5.0,5.0,5.0,5.0,2.0,5.0,5.0]}];\n",
       "            var layout = \"\";\n",
       "            Plotly.newPlot('8fdf144c-9eec-4b67-a4e3-8f57bb3932f6', data, layout);\n",
       "        });\r\n",
       "};\r\n",
       "if ((typeof(requirejs) !==  typeof(Function)) || (typeof(requirejs.config) !== typeof(Function))) { \r\n",
       "    var script = document.createElement(\"script\"); \r\n",
       "    script.setAttribute(\"src\", \"https://cdnjs.cloudflare.com/ajax/libs/require.js/2.3.6/require.min.js\"); \r\n",
       "    script.onload = function(){\r\n",
       "        renderPlotly();\r\n",
       "    };\r\n",
       "    document.getElementsByTagName(\"head\")[0].appendChild(script); \r\n",
       "}\r\n",
       "else {\r\n",
       "    renderPlotly();\r\n",
       "}\r\n",
       "</script>"
      ]
     },
     "execution_count": 12,
     "metadata": {},
     "output_type": "execute_result"
    }
   ],
   "source": [
    "Chart.Plot(\n",
    "    new Graph.Histogram() {\n",
    "        x = tablesoccerData[\"GoalsTeam1\"]\n",
    "    }\n",
    ")"
   ]
  },
  {
   "cell_type": "code",
   "execution_count": 12,
   "metadata": {
    "scrolled": true
   },
   "outputs": [
    {
     "data": {
      "text/html": [
       "599"
      ]
     },
     "metadata": {},
     "output_type": "display_data"
    }
   ],
   "source": [
    "tablesoccerData = tablesoccerData.Filter(tablesoccerData[\"GoalsTeam1\"].ElementwiseLessThanOrEqual(5));\n",
    "tablesoccerData = tablesoccerData.Filter(tablesoccerData[\"GoalsTeam2\"].ElementwiseLessThanOrEqual(5));\n",
    "\n",
    "display(tablesoccerData.Rows.Count);"
   ]
  },
  {
   "cell_type": "code",
   "execution_count": null,
   "metadata": {},
   "outputs": [],
   "source": [
    "tablesoccerData.Columns.Remove(\"GoalsTeam1\");\n",
    "tablesoccerData.Columns.Remove(\"GoalsTeam2\");\n",
    "tablesoccerData.Columns.Remove(\"Result\");"
   ]
  },
  {
   "cell_type": "code",
   "execution_count": 8,
   "metadata": {},
   "outputs": [],
   "source": [
    "using Microsoft.ML;\n",
    "using Microsoft.ML.Data;\n",
    "using Microsoft.ML.AutoML;"
   ]
  },
  {
   "cell_type": "code",
   "execution_count": 13,
   "metadata": {},
   "outputs": [
    {
     "data": {
      "text/html": [
       "120"
      ]
     },
     "metadata": {},
     "output_type": "display_data"
    },
    {
     "data": {
      "text/html": [
       "479"
      ]
     },
     "metadata": {},
     "output_type": "display_data"
    }
   ],
   "source": [
    "static T[] Shuffle<T>(T[] array)\n",
    "{\n",
    "    Random rand = new Random();\n",
    "    for (int i = 0; i < array.Length; i++)\n",
    "    {\n",
    "        int r = i + rand.Next(array.Length - i);\n",
    "        T temp = array[r];\n",
    "        array[r] = array[i];\n",
    "        array[i] = temp;\n",
    "    }\n",
    "    return array;\n",
    "}\n",
    "\n",
    "int[] randomIndices = Shuffle(Enumerable.Range(0, (int)tablesoccerData.Rows.Count).ToArray());\n",
    "int testSize = (int)(tablesoccerData.Rows.Count * .8);\n",
    "int[] trainRows = randomIndices[testSize..];\n",
    "int[] testRows = randomIndices[..testSize];\n",
    "\n",
    "DataFrame tablesoccerData_train = tablesoccerData[trainRows];\n",
    "DataFrame tablesoccerData_test = tablesoccerData[testRows];\n",
    "\n",
    "display(tablesoccerData_train.Rows.Count);\n",
    "display(tablesoccerData_test.Rows.Count);"
   ]
  },
  {
   "cell_type": "code",
   "execution_count": null,
   "metadata": {},
   "outputs": [],
   "source": [
    "tablesoccerData_train"
   ]
  },
  {
   "cell_type": "code",
   "execution_count": 14,
   "metadata": {},
   "outputs": [
    {
     "data": {
      "text/plain": [
       "Wall time: 1499,4529ms"
      ]
     },
     "metadata": {},
     "output_type": "display_data"
    }
   ],
   "source": [
    "%%time\n",
    "\n",
    "\n",
    "var mlContext = new MLContext();\n",
    "\n",
    "var dataProcessPipeline = mlContext.Transforms.Categorical.OneHotEncoding(\n",
    "    new[] \n",
    "    { \n",
    "        new InputOutputColumnPair(\"Team1GoalKeeper\", \"Team1GoalKeeper\"), \n",
    "        new InputOutputColumnPair(\"Team1Striker\", \"Team1Striker\"), \n",
    "        new InputOutputColumnPair(\"Team2GoalKeeper\", \"Team2GoalKeeper\"), \n",
    "        new InputOutputColumnPair(\"Team2Striker\", \"Team2Striker\") \n",
    "    })\n",
    "  .Append(mlContext.Transforms.Concatenate(\n",
    "      \"Features\", \n",
    "      new[] \n",
    "      { \n",
    "          \"Team1GoalKeeper\", \"Team1Striker\", \"Team2GoalKeeper\", \"Team2Striker\"          \n",
    "      }))\n",
    "  .Append(mlContext.Transforms.NormalizeMinMax(\"Features\", \"Features\"))\n",
    "  .AppendCacheCheckpoint(mlContext);\n",
    "\n",
    "var trainer = mlContext.Regression.Trainers.Sdca(labelColumnName: \"GoalDifference\", featureColumnName: \"Features\");\n",
    "\n",
    "var trainingPipeline = dataProcessPipeline.Append(trainer);\n",
    "\n",
    "var model = trainingPipeline.Fit(tablesoccerData_train);"
   ]
  },
  {
   "cell_type": "code",
   "execution_count": 15,
   "metadata": {},
   "outputs": [],
   "source": [
    "static void PrintRegressionFoldsAverageMetrics(IEnumerable<TrainCatalogBase.CrossValidationResult<RegressionMetrics>> crossValidationResults)\n",
    "{\n",
    "    var L1 = crossValidationResults.Select(r => r.Metrics.MeanAbsoluteError);\n",
    "    var L2 = crossValidationResults.Select(r => r.Metrics.MeanSquaredError);\n",
    "    var RMS = crossValidationResults.Select(r => r.Metrics.RootMeanSquaredError);\n",
    "    var lossFunction = crossValidationResults.Select(r => r.Metrics.LossFunction);\n",
    "    var R2 = crossValidationResults.Select(r => r.Metrics.RSquared);\n",
    "\n",
    "    Console.WriteLine($\"*************************************************************************************************************\");\n",
    "    Console.WriteLine($\"*       Metrics for Regression model      \");\n",
    "    Console.WriteLine($\"*------------------------------------------------------------------------------------------------------------\");\n",
    "    Console.WriteLine($\"*       Average L1 Loss:       {L1.Average():0.###} \");\n",
    "    Console.WriteLine($\"*       Average L2 Loss:       {L2.Average():0.###}  \");\n",
    "    Console.WriteLine($\"*       Average RMS:           {RMS.Average():0.###}  \");\n",
    "    Console.WriteLine($\"*       Average Loss Function: {lossFunction.Average():0.###}  \");\n",
    "    Console.WriteLine($\"*       Average R-squared:     {R2.Average():0.###}  \");\n",
    "    Console.WriteLine($\"*************************************************************************************************************\");\n",
    "}"
   ]
  },
  {
   "cell_type": "code",
   "execution_count": 16,
   "metadata": {},
   "outputs": [
    {
     "name": "stdout",
     "output_type": "stream",
     "text": [
      "*************************************************************************************************************\n",
      "*       Metrics for Regression model      \n",
      "*------------------------------------------------------------------------------------------------------------\n",
      "*       Average L1 Loss:       2,077 \n",
      "*       Average L2 Loss:       6,382  \n",
      "*       Average RMS:           2,523  \n",
      "*       Average Loss Function: 6,382  \n",
      "*       Average R-squared:     0,383  \n",
      "*************************************************************************************************************\n"
     ]
    }
   ],
   "source": [
    "var crossValidationResults = mlContext.Regression.CrossValidate(tablesoccerData_test, trainingPipeline, numberOfFolds: 5, labelColumnName: \"GoalDifference\");\n",
    "\n",
    "PrintRegressionFoldsAverageMetrics(crossValidationResults);"
   ]
  },
  {
   "cell_type": "code",
   "execution_count": 17,
   "metadata": {},
   "outputs": [],
   "source": [
    "class Game\n",
    "{\n",
    "    public string Team1GoalKeeper { get; set; }\n",
    "    public string Team1Striker { get; set; }\n",
    "    public string Team2GoalKeeper { get; set; }\n",
    "    public string Team2Striker { get; set; }\n",
    "}\n",
    "\n",
    "class Result\n",
    "{\n",
    "    public float Score { get; set; }\n",
    "}"
   ]
  },
  {
   "cell_type": "code",
   "execution_count": 19,
   "metadata": {},
   "outputs": [],
   "source": [
    "var predictionEngine = mlContext.Model.CreatePredictionEngine<Game, Result>(model);"
   ]
  },
  {
   "cell_type": "code",
   "execution_count": 23,
   "metadata": {},
   "outputs": [
    {
     "data": {
      "text/html": [
       "<table><thead><tr><th>Score</th></tr></thead><tbody><tr><td>0.24464674</td></tr></tbody></table>"
      ]
     },
     "execution_count": 23,
     "metadata": {},
     "output_type": "execute_result"
    }
   ],
   "source": [
    "var result = predictionEngine.Predict(new Game()\n",
    "{\n",
    "    Team1GoalKeeper = \"Christoph\",\n",
    "    Team1Striker = \"Daniel B.\",\n",
    "    Team2GoalKeeper = \"Michael\",\n",
    "    Team2Striker = \"Daniel S.\"\n",
    "});\n",
    "\n",
    "result"
   ]
  },
  {
   "cell_type": "code",
   "execution_count": 25,
   "metadata": {
    "scrolled": true
   },
   "outputs": [
    {
     "data": {
      "text/html": [
       "<div id=\"8359b054-bd64-484d-ad4d-f0624d8fc055\" style=\"width: 900px; height: 500px;\"></div><script type=\"text/javascript\">\r\n",
       "\r\n",
       "var renderPlotly = function() {\r\n",
       "    var xplotRequire = requirejs.config({context:'xplot-2.0.0',paths:{plotly:'https://cdn.plot.ly/plotly-1.49.2.min'}});\r\n",
       "    xplotRequire(['plotly'], function(Plotly) {\r\n",
       "\n",
       "            var data = [{\"type\":\"scatter\",\"x\":[2.0,2.0,-3.0,3.0,-5.0,-2.0,4.0,1.0,-2.0,4.0,2.0,-1.0,5.0,4.0,1.0,-1.0,-2.0,-2.0,-3.0,-4.0,-2.0,3.0,1.0,1.0,-2.0,-1.0,5.0,1.0,2.0,5.0,1.0,-1.0,-3.0,2.0,-3.0,1.0,-5.0,-1.0,-1.0,1.0,-1.0,-2.0,1.0,-3.0,4.0,-1.0,-1.0,2.0,1.0,-4.0,-4.0,5.0,1.0,1.0,1.0,-4.0,3.0,1.0,-4.0,3.0,-3.0,2.0,-1.0,-1.0,-5.0,-1.0,3.0,-5.0,2.0,4.0,-1.0,5.0,-5.0,1.0,5.0,-1.0,3.0,-1.0,-2.0,-1.0,2.0,-1.0,2.0,1.0,1.0,-3.0,1.0,-5.0,1.0,5.0,-1.0,1.0,-1.0,1.0,5.0,-1.0,1.0,-1.0,1.0,-1.0,-1.0,-2.0,-4.0,1.0,4.0,3.0,-2.0,3.0,1.0,-5.0,-3.0,1.0,1.0,4.0,1.0,3.0,-3.0,-1.0,1.0,-4.0,1.0,-2.0,2.0,4.0,5.0,5.0,-1.0,-3.0,1.0,1.0,-4.0,2.0,1.0,-2.0,2.0,1.0,-2.0,2.0,2.0,1.0,3.0,3.0,1.0,-4.0,1.0,-2.0,-2.0,1.0,2.0,-2.0,-1.0,4.0,-3.0,1.0,5.0,2.0,-1.0,-2.0,5.0,1.0,4.0,-5.0,-1.0,1.0,-3.0,-2.0,4.0,1.0,-2.0,-3.0,1.0,5.0,1.0,1.0,-4.0,5.0,-3.0,4.0,2.0,2.0,1.0,5.0,-3.0,2.0,1.0,3.0,5.0,4.0,-3.0,5.0,-2.0,1.0,-1.0,-1.0,4.0,-1.0,2.0,2.0,2.0,5.0,5.0,2.0,-5.0,1.0,-3.0,1.0,2.0,-1.0,-1.0,1.0,2.0,-3.0,-3.0,1.0,1.0,1.0,-5.0,3.0,3.0,3.0,-1.0,2.0,1.0,1.0,1.0,-3.0,1.0,-1.0,-4.0,1.0,-5.0,-5.0,2.0,-2.0,4.0,2.0,2.0,3.0,3.0,1.0,-2.0,2.0,-1.0,1.0,1.0,5.0,1.0,1.0,-2.0,1.0,-1.0,5.0,-2.0,-3.0,-1.0,-5.0,-2.0,-3.0,5.0,-1.0,2.0,2.0,4.0,2.0,-3.0,1.0,-1.0,-1.0,-5.0,1.0,5.0,-1.0,1.0,-2.0,3.0,3.0,-2.0,-1.0,2.0,-3.0,-3.0,-2.0,1.0,1.0,-1.0,-3.0,4.0,1.0,4.0,-1.0,3.0,-2.0,-4.0,2.0,5.0,1.0,2.0,1.0,-4.0,2.0,1.0,1.0,-3.0,-2.0,2.0,1.0,-1.0,4.0,1.0,3.0,-1.0,-2.0,-2.0,2.0,-1.0,-3.0,3.0,-3.0,2.0,-5.0,-4.0,4.0,1.0,-1.0,-2.0,-5.0,-3.0,-2.0,3.0,-1.0,-4.0,1.0,1.0,-4.0,-1.0,1.0,1.0,3.0,-2.0,1.0,-1.0,2.0,-3.0,5.0,4.0,-3.0,2.0,1.0,-2.0,-5.0,2.0,-1.0,5.0,-1.0,-4.0,-1.0,1.0,1.0,1.0,4.0,2.0,-1.0,5.0,3.0,-1.0,-3.0,5.0,1.0,3.0,1.0,-5.0,-2.0,-1.0,2.0,-3.0,-4.0,-2.0,-5.0,2.0,-5.0,-1.0,1.0,-2.0,-2.0,-4.0,-1.0,1.0,3.0,1.0,1.0,5.0,3.0,2.0,3.0,-1.0,-1.0,2.0,2.0,1.0,4.0,5.0,5.0,-5.0,-1.0,2.0,-2.0,2.0,4.0,-3.0,1.0,1.0,2.0,-5.0,4.0,1.0,1.0,-3.0,1.0,-1.0,-2.0,-3.0,1.0,2.0,1.0,-3.0,1.0,-4.0,-4.0,1.0,-1.0,-3.0,-2.0,-1.0,4.0,1.0,3.0,2.0,-3.0,4.0,3.0,4.0,-2.0,4.0,2.0,-1.0,2.0,-1.0,3.0,-3.0,-5.0,-3.0,1.0,-3.0,2.0,-3.0,-4.0,1.0,-5.0,-2.0,2.0,1.0,-2.0,4.0,-2.0,1.0,2.0,-4.0,1.0,-2.0,1.0,1.0,2.0,-1.0,2.0,3.0,5.0,-5.0,4.0,1.0,-2.0,1.0,-1.0,-1.0,1.0,1.0,-2.0,-1.0,-3.0,-4.0,3.0,-4.0,-4.0,-2.0,1.0,-1.0,1.0,-1.0,-1.0,2.0,-4.0,-3.0,1.0,-4.0,1.0,-3.0,1.0,-5.0,-1.0,1.0,-2.0,1.0,-2.0,-2.0,2.0,-3.0,-3.0,2.0,2.0,-3.0,3.0,4.0,-3.0,-5.0,2.0,-5.0,5.0,-4.0,-1.0,-3.0,5.0,2.0,-4.0,3.0,1.0,3.0,-4.0,-2.0,1.0,-1.0,3.0,1.0,4.0,5.0,-2.0,-5.0,-5.0,1.0,1.0,-1.0,-4.0,4.0,-1.0,1.0,5.0,-3.0,-2.0,1.0,-2.0,-1.0,-2.0,-3.0,3.0,-2.0,1.0,1.0,-3.0,-1.0,-2.0,2.0,4.0,-1.0,2.0,-1.0,4.0,1.0,-5.0,3.0,1.0,1.0,2.0,-3.0,5.0,1.0,3.0,5.0,5.0,-3.0,3.0,-2.0,-2.0,1.0,-4.0,2.0,2.0,-2.0,3.0,1.0,-4.0,-3.0,-2.0,-1.0,-3.0,1.0,-1.0,1.0,-1.0,1.0,5.0,3.0,2.0,3.0,-2.0,5.0,-3.0,-4.0,-1.0,-1.0,-4.0,-5.0,2.0,-1.0,-1.0,4.0,-5.0,1.0,4.0,3.0,-2.0,-5.0,-2.0,2.0,-2.0,4.0,-1.0,2.0,3.0,-5.0,1.0,2.0,-1.0,4.0,-1.0,-1.0,1.0,-2.0,1.0,2.0,-3.0,2.0,-2.0,3.0,1.0,-2.0,-2.0,2.0,-1.0,1.0,-3.0,-1.0,2.0,-2.0,-2.0,-2.0,1.0,3.0,-3.0,2.0,-1.0,-3.0,5.0,1.0,-1.0,-4.0,-1.0,-3.0,-1.0,3.0,4.0,5.0,-5.0,-2.0,-3.0,5.0,4.0,1.0,-1.0,3.0,2.0,2.0,3.0,4.0,-5.0,-5.0,-5.0,-1.0,1.0,-1.0,1.0,5.0,1.0,-2.0,-4.0,-2.0,-2.0,-1.0,-3.0,5.0,-2.0,-2.0,-1.0,5.0,3.0,-1.0,2.0,1.0,3.0,1.0,5.0,-2.0,-5.0,2.0,-5.0,1.0,1.0,-2.0,-1.0,2.0,2.0,-2.0,1.0,1.0,1.0,1.0,-2.0,-2.0,1.0,1.0,3.0,-3.0,2.0,-2.0,1.0,-5.0,1.0,1.0,4.0,1.0,-3.0,-3.0,-2.0,-3.0,1.0,2.0,5.0,5.0,-1.0,1.0,-4.0,-3.0,5.0,-1.0,-4.0,2.0,-2.0,-1.0,1.0,-3.0,-4.0,-1.0,1.0,2.0,2.0,-5.0,5.0,1.0,-3.0,-5.0,-5.0,1.0,3.0,5.0,-3.0,2.0,-2.0,-4.0,-2.0,1.0,2.0,-4.0,2.0,3.0,-1.0,-3.0,2.0,-5.0,4.0,-4.0,2.0,3.0,-2.0],\"y\":[2.0,2.0,-3.0,3.0,-4.0,-2.0,3.0,-0.0,-1.0,4.0,2.0,-1.0,6.0,4.0,1.0,-1.0,-2.0,-2.0,-3.0,-4.0,-2.0,3.0,0.0,1.0,-2.0,-1.0,6.0,1.0,2.0,6.0,0.0,-0.0,-2.0,2.0,-3.0,-0.0,-6.0,-1.0,-1.0,1.0,-0.0,-3.0,2.0,-3.0,3.0,-1.0,-0.0,2.0,0.0,-3.0,-4.0,6.0,1.0,0.0,0.0,-3.0,3.0,1.0,-4.0,2.0,-3.0,2.0,0.0,-1.0,-7.0,-1.0,2.0,-5.0,2.0,4.0,0.0,4.0,-4.0,1.0,6.0,-1.0,3.0,-1.0,-1.0,-1.0,2.0,-1.0,2.0,1.0,1.0,-2.0,1.0,-4.0,0.0,6.0,-1.0,1.0,-1.0,1.0,7.0,-1.0,2.0,-1.0,1.0,-0.0,-1.0,-2.0,-4.0,-0.0,4.0,3.0,-2.0,3.0,0.0,-4.0,-3.0,0.0,1.0,4.0,0.0,3.0,-3.0,-1.0,1.0,-3.0,1.0,-1.0,2.0,3.0,6.0,4.0,-1.0,-3.0,1.0,1.0,-4.0,2.0,1.0,-1.0,2.0,1.0,-2.0,2.0,2.0,1.0,3.0,3.0,1.0,-4.0,1.0,-2.0,-2.0,0.0,2.0,-2.0,-1.0,4.0,-3.0,1.0,6.0,2.0,-0.0,-1.0,6.0,1.0,4.0,-6.0,-0.0,0.0,-3.0,-2.0,4.0,1.0,-2.0,-2.0,0.0,7.0,1.0,0.0,-3.0,6.0,-3.0,4.0,2.0,2.0,0.0,7.0,-3.0,2.0,1.0,3.0,5.0,4.0,-2.0,5.0,-2.0,0.0,0.0,-1.0,4.0,-1.0,2.0,2.0,2.0,7.0,6.0,2.0,-4.0,1.0,-2.0,1.0,2.0,-1.0,-0.0,1.0,2.0,-3.0,-2.0,1.0,1.0,1.0,-5.0,3.0,3.0,3.0,-1.0,2.0,1.0,0.0,1.0,-2.0,0.0,-1.0,-4.0,1.0,-6.0,-5.0,2.0,-2.0,4.0,2.0,2.0,3.0,3.0,1.0,-2.0,2.0,-1.0,0.0,1.0,4.0,0.0,1.0,-2.0,1.0,-1.0,6.0,-2.0,-4.0,-1.0,-4.0,-2.0,-3.0,4.0,-1.0,2.0,2.0,4.0,2.0,-3.0,1.0,-1.0,-1.0,-6.0,1.0,4.0,-0.0,2.0,-2.0,3.0,3.0,-2.0,-1.0,2.0,-3.0,-3.0,-2.0,2.0,1.0,-0.0,-3.0,4.0,0.0,3.0,-1.0,3.0,-2.0,-3.0,2.0,6.0,0.0,2.0,1.0,-4.0,2.0,1.0,0.0,-3.0,-2.0,2.0,1.0,0.0,4.0,1.0,2.0,-0.0,-2.0,-2.0,2.0,-0.0,-2.0,2.0,-3.0,2.0,-4.0,-3.0,3.0,1.0,-1.0,-2.0,-7.0,-3.0,-2.0,3.0,-1.0,-3.0,0.0,1.0,-4.0,-1.0,1.0,2.0,3.0,-2.0,1.0,-0.0,2.0,-2.0,4.0,4.0,-3.0,2.0,1.0,-1.0,-5.0,2.0,-1.0,5.0,-1.0,-3.0,-1.0,1.0,1.0,1.0,4.0,2.0,-0.0,4.0,3.0,-1.0,-2.0,6.0,1.0,3.0,1.0,-7.0,-2.0,-1.0,2.0,-2.0,-4.0,-2.0,-4.0,2.0,-4.0,-1.0,1.0,-2.0,-2.0,-4.0,-1.0,1.0,3.0,1.0,1.0,5.0,3.0,2.0,3.0,-1.0,-1.0,2.0,2.0,1.0,4.0,5.0,5.0,-6.0,-1.0,2.0,-2.0,2.0,4.0,-3.0,1.0,1.0,2.0,-5.0,3.0,1.0,0.0,-3.0,0.0,-1.0,-2.0,-3.0,1.0,2.0,1.0,-3.0,1.0,-3.0,-3.0,1.0,-1.0,-3.0,-2.0,-1.0,4.0,1.0,3.0,2.0,-2.0,3.0,3.0,4.0,-1.0,4.0,2.0,-1.0,2.0,-1.0,3.0,-3.0,-6.0,-3.0,0.0,-3.0,2.0,-4.0,-4.0,1.0,-5.0,-2.0,2.0,1.0,-2.0,3.0,-2.0,0.0,2.0,-3.0,-0.0,-2.0,1.0,0.0,2.0,-1.0,2.0,2.0,5.0,-4.0,4.0,-0.0,-1.0,1.0,-1.0,-1.0,1.0,1.0,-2.0,-1.0,-4.0,-4.0,3.0,-4.0,-3.0,-2.0,1.0,-0.0,1.0,-0.0,-1.0,2.0,-3.0,-3.0,-0.0,-4.0,0.0,-3.0,1.0,-4.0,-1.0,0.0,-2.0,0.0,-2.0,-2.0,2.0,-3.0,-3.0,2.0,2.0,-3.0,3.0,4.0,-3.0,-7.0,1.0,-4.0,4.0,-4.0,-1.0,-3.0,4.0,2.0,-4.0,3.0,0.0,3.0,-3.0,-2.0,1.0,-1.0,3.0,0.0,3.0,5.0,-2.0,-6.0,-4.0,1.0,1.0,-0.0,-3.0,4.0,-0.0,0.0,4.0,-3.0,-2.0,0.0,-1.0,-0.0,-1.0,-4.0,2.0,-2.0,0.0,1.0,-3.0,-1.0,-2.0,2.0,4.0,-1.0,2.0,-1.0,4.0,2.0,-5.0,3.0,1.0,-0.0,2.0,-3.0,6.0,1.0,3.0,6.0,4.0,-3.0,3.0,-2.0,-2.0,0.0,-3.0,1.0,2.0,-2.0,3.0,0.0,-3.0,-3.0,-2.0,-0.0,-3.0,1.0,-1.0,1.0,-1.0,2.0,7.0,3.0,2.0,3.0,-2.0,5.0,-2.0,-3.0,-1.0,-1.0,-4.0,-4.0,2.0,-1.0,-1.0,4.0,-7.0,1.0,4.0,3.0,-2.0,-4.0,-2.0,2.0,-2.0,4.0,-1.0,2.0,3.0,-4.0,1.0,2.0,-1.0,4.0,-1.0,-1.0,1.0,-2.0,-0.0,2.0,-3.0,2.0,-1.0,3.0,1.0,-2.0,-2.0,2.0,-1.0,1.0,-2.0,-0.0,2.0,-2.0,-2.0,-2.0,1.0,3.0,-3.0,2.0,-1.0,-3.0,4.0,1.0,-1.0,-4.0,-1.0,-3.0,-1.0,3.0,3.0,6.0,-5.0,-2.0,-3.0,4.0,3.0,0.0,-1.0,3.0,2.0,2.0,3.0,4.0,-6.0,-4.0,-4.0,-1.0,0.0,-0.0,1.0,5.0,1.0,-3.0,-4.0,-2.0,-2.0,-1.0,-3.0,4.0,-3.0,-1.0,-0.0,6.0,3.0,-1.0,2.0,1.0,3.0,1.0,6.0,-2.0,-4.0,2.0,-5.0,1.0,1.0,-2.0,-1.0,2.0,2.0,-2.0,1.0,1.0,1.0,1.0,-2.0,-2.0,0.0,1.0,3.0,-3.0,2.0,-2.0,1.0,-5.0,1.0,-0.0,4.0,1.0,-3.0,-3.0,-2.0,-2.0,1.0,2.0,6.0,5.0,-1.0,0.0,-3.0,-3.0,5.0,-0.0,-4.0,2.0,-2.0,-1.0,1.0,-3.0,-4.0,-1.0,1.0,2.0,2.0,-4.0,7.0,1.0,-3.0,-4.0,-6.0,1.0,3.0,5.0,-3.0,2.0,-2.0,-4.0,-2.0,1.0,2.0,-4.0,2.0,3.0,-0.0,-3.0,2.0,-6.0,4.0,-3.0,2.0,3.0,-2.0],\"mode\":\"markers\",\"marker\":{\"opacity\":0.2,\"size\":7}},{\"type\":\"scatter\",\"x\":[-5,5],\"y\":[-5,5]}];\n",
       "            var layout = \"\";\n",
       "            Plotly.newPlot('8359b054-bd64-484d-ad4d-f0624d8fc055', data, layout);\n",
       "        });\r\n",
       "};\r\n",
       "if ((typeof(requirejs) !==  typeof(Function)) || (typeof(requirejs.config) !== typeof(Function))) { \r\n",
       "    var script = document.createElement(\"script\"); \r\n",
       "    script.setAttribute(\"src\", \"https://cdnjs.cloudflare.com/ajax/libs/require.js/2.3.6/require.min.js\"); \r\n",
       "    script.onload = function(){\r\n",
       "        renderPlotly();\r\n",
       "    };\r\n",
       "    document.getElementsByTagName(\"head\")[0].appendChild(script); \r\n",
       "}\r\n",
       "else {\r\n",
       "    renderPlotly();\r\n",
       "}\r\n",
       "</script>"
      ]
     },
     "metadata": {},
     "output_type": "display_data"
    }
   ],
   "source": [
    "var predictions = new List<(float, float)>();\n",
    "\n",
    "var data = tablesoccerData_test;\n",
    "\n",
    "for (int i=0; i < data.Rows.Count; i++)\n",
    "{\n",
    "    var game = new Game()\n",
    "    {\n",
    "        Team1GoalKeeper = (string)data[\"Team1GoalKeeper\"][i],\n",
    "        Team1Striker = (string)data[\"Team1Striker\"][i],\n",
    "        Team2GoalKeeper = (string)data[\"Team2GoalKeeper\"][i],\n",
    "        Team2Striker = (string)data[\"Team2Striker\"][i],\n",
    "    };\n",
    "    \n",
    "    var result = (float)data[\"GoalDifference\"][i];\n",
    "    var prediction = predictionEngine.Predict(game);\n",
    "    \n",
    "    predictions.Add((result, prediction.Score));\n",
    "}\n",
    "\n",
    "var predictionTrace = new Graph.Scatter()\n",
    "                        {\n",
    "                            x = predictions.Select(p => p.Item1).ToList(),\n",
    "                            y = predictions.Select(p => Math.Round(p.Item2)).ToList(),\n",
    "                            //z = predictions.Select((p, index) => index).ToList(),\n",
    "                            mode = \"markers\",\n",
    "                            marker = new Graph.Marker()\n",
    "                            {\n",
    "                                size = 7,\n",
    "                                opacity = 0.2\n",
    "                            }\n",
    "                        };\n",
    "\n",
    "var correctTrace = new Graph.Scatter()\n",
    "    {\n",
    "        x = new int[] { -5, 5 },\n",
    "        y = new int[] { -5, 5 }\n",
    "    };\n",
    "\n",
    "display(Chart.Plot(new [] { predictionTrace, correctTrace }));\n"
   ]
  },
  {
   "cell_type": "code",
   "execution_count": null,
   "metadata": {},
   "outputs": [],
   "source": [
    "using System.Linq;\n",
    "\n",
    "Random random = new Random();\n",
    "\n",
    "var players = new string[]\n",
    "{\n",
    "    \"Roman\",\n",
    "    \"Bill\",\n",
    "    \"Julia\",\n",
    "    \"Anne\",\n",
    "    \"Scott\",\n",
    "    \"Sarah\"\n",
    "};\n",
    "\n",
    "\n",
    "for (int i=0; i<1000; i++)\n",
    "{\n",
    "    var mix = players.OrderBy(p => random.Next()).Take(4).ToList();\n",
    "    display(mix[0]+\"\\t\"+mix[1]+\"\\t\"+mix[2]+\"\\t\"+mix[3]);\n",
    "}"
   ]
  }
 ],
 "metadata": {
  "kernelspec": {
   "display_name": ".NET (C#)",
   "language": "C#",
   "name": ".net-csharp"
  },
  "language_info": {
   "file_extension": ".cs",
   "mimetype": "text/x-csharp",
   "name": "C#",
   "pygments_lexer": "csharp",
   "version": "8.0"
  }
 },
 "nbformat": 4,
 "nbformat_minor": 2
}
