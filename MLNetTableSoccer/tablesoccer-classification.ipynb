{
 "cells": [
  {
   "cell_type": "code",
   "execution_count": 1,
   "metadata": {},
   "outputs": [
    {
     "data": {
      "text/html": [
       "Installing package Microsoft.Data.Analysis, version 0.2.0.................done!"
      ]
     },
     "metadata": {},
     "output_type": "display_data"
    },
    {
     "data": {
      "text/html": [
       "Successfully added reference to package Microsoft.Data.Analysis, version "
      ]
     },
     "metadata": {},
     "output_type": "display_data"
    },
    {
     "data": {
      "text/html": [
       "Installing package Microsoft.ML, version 1.4.0.....done!"
      ]
     },
     "metadata": {},
     "output_type": "display_data"
    },
    {
     "data": {
      "text/html": [
       "Successfully added reference to package Microsoft.ML, version "
      ]
     },
     "metadata": {},
     "output_type": "display_data"
    },
    {
     "data": {
      "text/html": [
       "Installing package Microsoft.ML.AutoML, version 0.16.0......done!"
      ]
     },
     "metadata": {},
     "output_type": "display_data"
    },
    {
     "data": {
      "text/html": [
       "Successfully added reference to package Microsoft.ML.AutoML, version "
      ]
     },
     "metadata": {},
     "output_type": "display_data"
    }
   ],
   "source": [
    "#r \"nuget:Microsoft.Data.Analysis,0.2.0\"\n",
    "#r \"nuget:Microsoft.ML,1.4.0\"\n",
    "#r \"nuget:Microsoft.ML.AutoML,0.16.0\""
   ]
  },
  {
   "cell_type": "code",
   "execution_count": 2,
   "metadata": {},
   "outputs": [],
   "source": [
    "using Microsoft.Data.Analysis;\n",
    "using XPlot.Plotly;"
   ]
  },
  {
   "cell_type": "markdown",
   "metadata": {},
   "source": [
    "### Introduction to DataFrame\n",
    "https://devblogs.microsoft.com/dotnet/an-introduction-to-dataframe/"
   ]
  },
  {
   "cell_type": "code",
   "execution_count": 3,
   "metadata": {},
   "outputs": [],
   "source": [
    "using Microsoft.AspNetCore.Html;\n",
    "Formatter<DataFrame>.Register((df, writer) =>\n",
    "{\n",
    "    var headers = new List<IHtmlContent>();\n",
    "    headers.Add(th(i(\"index\")));\n",
    "    headers.AddRange(df.Columns.Select(c => (IHtmlContent) th(c.Name)));\n",
    "    var rows = new List<List<IHtmlContent>>();\n",
    "    var take = 20;\n",
    "    for (var i = 0; i < Math.Min(take, df.Rows.Count); i++)\n",
    "    {\n",
    "        var cells = new List<IHtmlContent>();\n",
    "        cells.Add(td(i));\n",
    "        foreach (var obj in df.Rows[i])\n",
    "        {\n",
    "            cells.Add(td(obj));\n",
    "        }\n",
    "        rows.Add(cells);\n",
    "    }\n",
    "    \n",
    "    var t = table(\n",
    "        thead(\n",
    "            headers),\n",
    "        tbody(\n",
    "            rows.Select(\n",
    "                r => tr(r))));\n",
    "    \n",
    "    writer.Write(t);\n",
    "}, \"text/html\");"
   ]
  },
  {
   "cell_type": "code",
   "execution_count": 51,
   "metadata": {},
   "outputs": [],
   "source": [
    "string fileName = @\"D:\\softaware\\samples-ml\\data\\tablesoccer-export.csv\";\n",
    "\n",
    "var tablesoccerData = DataFrame.LoadCsv(fileName);"
   ]
  },
  {
   "cell_type": "code",
   "execution_count": 52,
   "metadata": {
    "scrolled": true
   },
   "outputs": [
    {
     "data": {
      "text/html": [
       "<table><thead><th><i>index</i></th><th>Description</th><th>Hour</th><th>GoalsTeam1</th><th>GoalsTeam2</th><th>GoalDifference</th><th>Result</th></thead><tbody><tr><td>0</td><td>Length (excluding null values)</td><td>611</td><td>611</td><td>611</td><td>611</td><td>611</td></tr><tr><td>1</td><td>Max</td><td>18</td><td>10</td><td>10</td><td>10</td><td>2</td></tr><tr><td>2</td><td>Min</td><td>1</td><td>0</td><td>0</td><td>-8</td><td>1</td></tr><tr><td>3</td><td>Mean</td><td>7.759411</td><td>3.6841245</td><td>3.5040917</td><td>0.18003273</td><td>1.4942716</td></tr></tbody></table>"
      ]
     },
     "execution_count": 52,
     "metadata": {},
     "output_type": "execute_result"
    }
   ],
   "source": [
    "tablesoccerData.Description()"
   ]
  },
  {
   "cell_type": "code",
   "execution_count": null,
   "metadata": {
    "scrolled": true
   },
   "outputs": [],
   "source": [
    "display(tablesoccerData[\"GoalDifference\"].Mean());\n",
    "display(tablesoccerData[\"GoalDifference\"].Median());\n",
    "\n",
    "\n",
    "tablesoccerData[\"GoalDifference\"].ValueCounts()"
   ]
  },
  {
   "cell_type": "code",
   "execution_count": null,
   "metadata": {
    "scrolled": true
   },
   "outputs": [],
   "source": [
    "tablesoccerData"
   ]
  },
  {
   "cell_type": "code",
   "execution_count": null,
   "metadata": {
    "scrolled": false
   },
   "outputs": [],
   "source": [
    "Chart.Plot(\n",
    "    new Graph.Histogram()\n",
    "    {\n",
    "        x = tablesoccerData[\"Hour\"]\n",
    "    }\n",
    ")"
   ]
  },
  {
   "cell_type": "code",
   "execution_count": null,
   "metadata": {
    "scrolled": true
   },
   "outputs": [],
   "source": [
    "Chart.Plot(\n",
    "    new Graph.Histogram() {\n",
    "        x = tablesoccerData[\"GoalsTeam2\"]\n",
    "    }\n",
    ")"
   ]
  },
  {
   "cell_type": "code",
   "execution_count": 53,
   "metadata": {
    "scrolled": true
   },
   "outputs": [
    {
     "data": {
      "text/html": [
       "599"
      ]
     },
     "metadata": {},
     "output_type": "display_data"
    }
   ],
   "source": [
    "tablesoccerData = tablesoccerData.Filter(tablesoccerData[\"GoalsTeam1\"].ElementwiseLessThanOrEqual(5));\n",
    "tablesoccerData = tablesoccerData.Filter(tablesoccerData[\"GoalsTeam2\"].ElementwiseLessThanOrEqual(5));\n",
    "\n",
    "display(tablesoccerData.Rows.Count);"
   ]
  },
  {
   "cell_type": "code",
   "execution_count": null,
   "metadata": {},
   "outputs": [],
   "source": [
    "tablesoccerData.Columns.Remove(\"GoalsTeam1\");\n",
    "tablesoccerData.Columns.Remove(\"GoalsTeam2\");\n",
    "tablesoccerData.Columns.Remove(\"Result\");"
   ]
  },
  {
   "cell_type": "code",
   "execution_count": 7,
   "metadata": {},
   "outputs": [],
   "source": [
    "using Microsoft.ML;\n",
    "using Microsoft.ML.Data;\n",
    "using Microsoft.ML.AutoML;"
   ]
  },
  {
   "cell_type": "code",
   "execution_count": 54,
   "metadata": {},
   "outputs": [
    {
     "data": {
      "text/html": [
       "420"
      ]
     },
     "metadata": {},
     "output_type": "display_data"
    },
    {
     "data": {
      "text/html": [
       "179"
      ]
     },
     "metadata": {},
     "output_type": "display_data"
    }
   ],
   "source": [
    "static T[] Shuffle<T>(T[] array)\n",
    "{\n",
    "    Random rand = new Random();\n",
    "    for (int i = 0; i < array.Length; i++)\n",
    "    {\n",
    "        int r = i + rand.Next(array.Length - i);\n",
    "        T temp = array[r];\n",
    "        array[r] = array[i];\n",
    "        array[i] = temp;\n",
    "    }\n",
    "    return array;\n",
    "}\n",
    "\n",
    "int[] randomIndices = Shuffle(Enumerable.Range(0, (int)tablesoccerData.Rows.Count).ToArray());\n",
    "int testSize = (int)(tablesoccerData.Rows.Count * .3);\n",
    "int[] trainRows = randomIndices[testSize..];\n",
    "int[] testRows = randomIndices[..testSize];\n",
    "\n",
    "DataFrame tablesoccerData_train = tablesoccerData[trainRows];\n",
    "DataFrame tablesoccerData_test = tablesoccerData[testRows];\n",
    "\n",
    "display(tablesoccerData_train.Rows.Count);\n",
    "display(tablesoccerData_test.Rows.Count);"
   ]
  },
  {
   "cell_type": "code",
   "execution_count": 79,
   "metadata": {},
   "outputs": [
    {
     "data": {
      "text/html": [
       "<table><thead><th><i>index</i></th><th>Hour</th><th>Weekday</th><th>Team1GoalKeeper</th><th>Team1Striker</th><th>Team2GoalKeeper</th><th>Team2Striker</th><th>GoalsTeam1</th><th>GoalsTeam2</th><th>GoalDifference</th><th>Result</th></thead><tbody><tr><td>0</td><td>1</td><td>Thursday</td><td>Patrik</td><td>Simon</td><td>Markus</td><td>Felix</td><td>5</td><td>1</td><td>4</td><td>1</td></tr><tr><td>1</td><td>1</td><td>Thursday</td><td>Philipp</td><td>Christoph</td><td>Michael</td><td>Roman</td><td>5</td><td>4</td><td>1</td><td>1</td></tr><tr><td>2</td><td>1</td><td>Thursday</td><td>Felix</td><td>Patrik</td><td>Christoph</td><td>Roman</td><td>5</td><td>3</td><td>2</td><td>1</td></tr><tr><td>3</td><td>1</td><td>Thursday</td><td>Roman</td><td>Dominik D.</td><td>Kathi</td><td>Felix</td><td>5</td><td>3</td><td>2</td><td>1</td></tr><tr><td>4</td><td>15</td><td>Friday</td><td>Patrik</td><td>Daniel S.</td><td>Felix</td><td>Roman</td><td>5</td><td>2</td><td>3</td><td>1</td></tr><tr><td>5</td><td>15</td><td>Friday</td><td>Roman</td><td>Patrik</td><td>Felix</td><td>Dominik D.</td><td>5</td><td>0</td><td>5</td><td>1</td></tr><tr><td>6</td><td>15</td><td>Thursday</td><td>Daniel S.</td><td>Felix</td><td>Markus</td><td>Michael</td><td>5</td><td>3</td><td>2</td><td>1</td></tr><tr><td>7</td><td>1</td><td>Thursday</td><td>Felix</td><td>Christoph</td><td>Markus</td><td>Daniel S.</td><td>5</td><td>1</td><td>4</td><td>1</td></tr><tr><td>8</td><td>12</td><td>Friday</td><td>Simon</td><td>Roman</td><td>Patrik</td><td>Felix</td><td>5</td><td>1</td><td>4</td><td>1</td></tr><tr><td>9</td><td>13</td><td>Thursday</td><td>Markus</td><td>Daniel S.</td><td>Dominik L.</td><td>Dominik D.</td><td>5</td><td>2</td><td>3</td><td>1</td></tr><tr><td>10</td><td>1</td><td>Thursday</td><td>Roman</td><td>Markus</td><td>Christoph</td><td>Michael</td><td>5</td><td>0</td><td>5</td><td>1</td></tr><tr><td>11</td><td>1</td><td>Thursday</td><td>Christoph</td><td>Patrik</td><td>Markus</td><td>Felix</td><td>5</td><td>1</td><td>4</td><td>1</td></tr><tr><td>12</td><td>13</td><td>Tuesday</td><td>Dominik D.</td><td>Georg</td><td>Felix</td><td>Kathi</td><td>5</td><td>4</td><td>1</td><td>1</td></tr><tr><td>13</td><td>1</td><td>Thursday</td><td>Dominik D.</td><td>Daniel S.</td><td>Michael</td><td>Markus</td><td>5</td><td>1</td><td>4</td><td>1</td></tr><tr><td>14</td><td>12</td><td>Friday</td><td>Roman</td><td>Markus</td><td>Christoph</td><td>Dominik D.</td><td>5</td><td>3</td><td>2</td><td>1</td></tr><tr><td>15</td><td>16</td><td>Thursday</td><td>Daniel S.</td><td>Christoph</td><td>Felix</td><td>Mario</td><td>5</td><td>0</td><td>5</td><td>1</td></tr><tr><td>16</td><td>1</td><td>Thursday</td><td>Michael</td><td>Roman</td><td>Dominik L.</td><td>Christoph</td><td>5</td><td>2</td><td>3</td><td>1</td></tr><tr><td>17</td><td>13</td><td>Tuesday</td><td>Simon</td><td>Dominik D.</td><td>Felix</td><td>Markus</td><td>5</td><td>1</td><td>4</td><td>1</td></tr><tr><td>18</td><td>1</td><td>Thursday</td><td>Markus</td><td>Patrik</td><td>Daniel B.</td><td>Felix</td><td>5</td><td>0</td><td>5</td><td>1</td></tr><tr><td>19</td><td>13</td><td>Thursday</td><td>Felix</td><td>Nico</td><td>Mario</td><td>Christoph</td><td>5</td><td>1</td><td>4</td><td>1</td></tr></tbody></table>"
      ]
     },
     "execution_count": 79,
     "metadata": {},
     "output_type": "execute_result"
    }
   ],
   "source": [
    "tablesoccerData_train = tablesoccerData_train.Sort(\"Result\")"
   ]
  },
  {
   "cell_type": "code",
   "execution_count": 80,
   "metadata": {},
   "outputs": [
    {
     "data": {
      "text/plain": [
       "Wall time: 1052,0511ms"
      ]
     },
     "metadata": {},
     "output_type": "display_data"
    }
   ],
   "source": [
    "%%time\n",
    "\n",
    "var mlContext = new MLContext();\n",
    "\n",
    "var dataProcessPipeline = mlContext.Transforms.Conversion.MapValueToKey(\"Result\", \"Result\")\n",
    "    .Append(mlContext.Transforms.Categorical.OneHotEncoding(\n",
    "    new[] \n",
    "    { \n",
    "        new InputOutputColumnPair(\"Team1GoalKeeper\", \"Team1GoalKeeper\"), \n",
    "        new InputOutputColumnPair(\"Team1Striker\", \"Team1Striker\"), \n",
    "        new InputOutputColumnPair(\"Team2GoalKeeper\", \"Team2GoalKeeper\"), \n",
    "        new InputOutputColumnPair(\"Team2Striker\", \"Team2Striker\") \n",
    "    }))\n",
    "  .Append(mlContext.Transforms.Concatenate(\n",
    "      \"Features\", \n",
    "      new[] \n",
    "      { \n",
    "          \"Team1GoalKeeper\", \"Team1Striker\", \"Team2GoalKeeper\", \"Team2Striker\"          \n",
    "      }))\n",
    "  .Append(mlContext.Transforms.NormalizeMinMax(\"Features\", \"Features\"))\n",
    "  .AppendCacheCheckpoint(mlContext);\n",
    "\n",
    "var trainer = mlContext.MulticlassClassification.Trainers.SdcaMaximumEntropy(labelColumnName: \"Result\", featureColumnName: \"Features\")\n",
    "    .Append(mlContext.Transforms.Conversion.MapKeyToValue(\"PredictedLabel\", \"PredictedLabel\"));\n",
    "\n",
    "var trainingPipeline = dataProcessPipeline.Append(trainer);\n",
    "\n",
    "var model = trainingPipeline.Fit(tablesoccerData_train);"
   ]
  },
  {
   "cell_type": "code",
   "execution_count": 46,
   "metadata": {},
   "outputs": [],
   "source": [
    "public static void PrintMulticlassClassificationFoldsAverageMetrics(IEnumerable<TrainCatalogBase.CrossValidationResult<MulticlassClassificationMetrics>> crossValResults)\n",
    "{\n",
    "    var metricsInMultipleFolds = crossValResults.Select(r => r.Metrics);\n",
    "\n",
    "    var microAccuracyValues = metricsInMultipleFolds.Select(m => m.MicroAccuracy);\n",
    "    var microAccuracyAverage = microAccuracyValues.Average();\n",
    "    var microAccuraciesStdDeviation = CalculateStandardDeviation(microAccuracyValues);\n",
    "    var microAccuraciesConfidenceInterval95 = CalculateConfidenceInterval95(microAccuracyValues);\n",
    "\n",
    "    var macroAccuracyValues = metricsInMultipleFolds.Select(m => m.MacroAccuracy);\n",
    "    var macroAccuracyAverage = macroAccuracyValues.Average();\n",
    "    var macroAccuraciesStdDeviation = CalculateStandardDeviation(macroAccuracyValues);\n",
    "    var macroAccuraciesConfidenceInterval95 = CalculateConfidenceInterval95(macroAccuracyValues);\n",
    "\n",
    "    var logLossValues = metricsInMultipleFolds.Select(m => m.LogLoss);\n",
    "    var logLossAverage = logLossValues.Average();\n",
    "    var logLossStdDeviation = CalculateStandardDeviation(logLossValues);\n",
    "    var logLossConfidenceInterval95 = CalculateConfidenceInterval95(logLossValues);\n",
    "\n",
    "    var logLossReductionValues = metricsInMultipleFolds.Select(m => m.LogLossReduction);\n",
    "    var logLossReductionAverage = logLossReductionValues.Average();\n",
    "    var logLossReductionStdDeviation = CalculateStandardDeviation(logLossReductionValues);\n",
    "    var logLossReductionConfidenceInterval95 = CalculateConfidenceInterval95(logLossReductionValues);\n",
    "\n",
    "    Console.WriteLine($\"*************************************************************************************************************\");\n",
    "    Console.WriteLine($\"*       Metrics for Multi-class Classification model      \");\n",
    "    Console.WriteLine($\"*------------------------------------------------------------------------------------------------------------\");\n",
    "    Console.WriteLine($\"*       Average MicroAccuracy:    {microAccuracyAverage:0.###}  - Standard deviation: ({microAccuraciesStdDeviation:#.###})  - Confidence Interval 95%: ({microAccuraciesConfidenceInterval95:#.###})\");\n",
    "    Console.WriteLine($\"*       Average MacroAccuracy:    {macroAccuracyAverage:0.###}  - Standard deviation: ({macroAccuraciesStdDeviation:#.###})  - Confidence Interval 95%: ({macroAccuraciesConfidenceInterval95:#.###})\");\n",
    "    Console.WriteLine($\"*       Average LogLoss:          {logLossAverage:#.###}  - Standard deviation: ({logLossStdDeviation:#.###})  - Confidence Interval 95%: ({logLossConfidenceInterval95:#.###})\");\n",
    "    Console.WriteLine($\"*       Average LogLossReduction: {logLossReductionAverage:#.###}  - Standard deviation: ({logLossReductionStdDeviation:#.###})  - Confidence Interval 95%: ({logLossReductionConfidenceInterval95:#.###})\");\n",
    "    Console.WriteLine($\"*************************************************************************************************************\");\n",
    "}\n",
    "\n",
    "\n",
    "public static double CalculateStandardDeviation(IEnumerable<double> values)\n",
    "{\n",
    "    double average = values.Average();\n",
    "    double sumOfSquaresOfDifferences = values.Select(val => (val - average) * (val - average)).Sum();\n",
    "    double standardDeviation = Math.Sqrt(sumOfSquaresOfDifferences / (values.Count() - 1));\n",
    "    return standardDeviation;\n",
    "}\n",
    "\n",
    "public static double CalculateConfidenceInterval95(IEnumerable<double> values)\n",
    "{\n",
    "    double confidenceInterval95 = 1.96 * CalculateStandardDeviation(values) / Math.Sqrt((values.Count() - 1));\n",
    "    return confidenceInterval95;\n",
    "}"
   ]
  },
  {
   "cell_type": "code",
   "execution_count": 48,
   "metadata": {},
   "outputs": [
    {
     "name": "stdout",
     "output_type": "stream",
     "text": [
      "*************************************************************************************************************\n",
      "*       Metrics for Multi-class Classification model      \n",
      "*------------------------------------------------------------------------------------------------------------\n",
      "*       Average MicroAccuracy:    0,58  - Standard deviation: (,037)  - Confidence Interval 95%: (,036)\n",
      "*       Average MacroAccuracy:    0,576  - Standard deviation: (,041)  - Confidence Interval 95%: (,04)\n",
      "*       Average LogLoss:          3,64  - Standard deviation: (1,297)  - Confidence Interval 95%: (1,271)\n",
      "*       Average LogLossReduction: -4,511  - Standard deviation: (2,037)  - Confidence Interval 95%: (1,996)\n",
      "*************************************************************************************************************\n"
     ]
    }
   ],
   "source": [
    "var crossValidationResults = mlContext.MulticlassClassification.CrossValidate(tablesoccerData_test, trainingPipeline, numberOfFolds: 5, labelColumnName: \"Result\");\n",
    "\n",
    "PrintMulticlassClassificationFoldsAverageMetrics(crossValidationResults);"
   ]
  },
  {
   "cell_type": "code",
   "execution_count": 66,
   "metadata": {},
   "outputs": [],
   "source": [
    "class Game\n",
    "{\n",
    "    public string Team1GoalKeeper { get; set; }\n",
    "    public string Team1Striker { get; set; }\n",
    "    public string Team2GoalKeeper { get; set; }\n",
    "    public string Team2Striker { get; set; }\n",
    "    public float Result { get; set; }\n",
    "}\n",
    "\n",
    "class Result\n",
    "{\n",
    "    [ColumnName(\"PredictedLabel\")]\n",
    "    public System.Single Prediction { get; set; }\n",
    "    \n",
    "    public float[] Score { get; set; }\n",
    "}"
   ]
  },
  {
   "cell_type": "code",
   "execution_count": 83,
   "metadata": {},
   "outputs": [],
   "source": [
    "var predictionEngine = mlContext.Model.CreatePredictionEngine<Game, Result>(model);"
   ]
  },
  {
   "cell_type": "code",
   "execution_count": 84,
   "metadata": {},
   "outputs": [
    {
     "data": {
      "text/html": [
       "<table><thead><tr><th>Prediction</th><th>Score</th></tr></thead><tbody><tr><td>1</td><td>[ 0.9999819, 1.8228935E-05 ]</td></tr></tbody></table>"
      ]
     },
     "execution_count": 84,
     "metadata": {},
     "output_type": "execute_result"
    }
   ],
   "source": [
    "var result = predictionEngine.Predict(new Game()\n",
    "{\n",
    "    Team1GoalKeeper = \"Philipp\",\n",
    "    Team1Striker = \"Roman\",\n",
    "    Team2GoalKeeper = \"Alexander\",\n",
    "    Team2Striker = \"Kathi\"\n",
    "});\n",
    "\n",
    "// Because of this mechanism, when using AutoML for ML.NET it's \n",
    "// a good idea to rearrange the first few items in the training dataset \n",
    "// so that each class to predict appears one by one in a logical order of some kind.\n",
    "\n",
    "result"
   ]
  },
  {
   "cell_type": "code",
   "execution_count": 38,
   "metadata": {
    "scrolled": true
   },
   "outputs": [
    {
     "data": {
      "text/html": [
       "<div id=\"c6264fa5-ed2a-4d3e-b7a0-81aa1aa87c3a\" style=\"width: 900px; height: 500px;\"></div><script type=\"text/javascript\">\r\n",
       "\r\n",
       "var renderPlotly = function() {\r\n",
       "    var xplotRequire = requirejs.config({context:'xplot-2.0.0',paths:{plotly:'https://cdn.plot.ly/plotly-1.49.2.min'}});\r\n",
       "    xplotRequire(['plotly'], function(Plotly) {\r\n",
       "\n",
       "            var data = [{\"type\":\"scatter\",\"x\":[-1.0,4.0,3.0,4.0,3.0,-3.0,-1.0,-5.0,3.0,1.0,-4.0,-2.0,-2.0,1.0,1.0,4.0,-4.0,-3.0,5.0,2.0,-3.0,-1.0,2.0,-5.0,3.0,3.0,-3.0,-1.0,1.0,-4.0,1.0,3.0,-1.0,-2.0,3.0,-2.0,4.0,-2.0,-2.0,-4.0,4.0,-1.0,5.0,3.0,2.0,-2.0,3.0,3.0,-4.0,3.0,-3.0,-5.0,-2.0,1.0,4.0,3.0,4.0,-1.0,5.0,5.0,-1.0,4.0,-3.0,-3.0,1.0,4.0,2.0,1.0,4.0,-3.0,-1.0,-1.0,4.0,-1.0,2.0,-2.0,3.0,4.0,-1.0,-3.0,2.0,-5.0,-4.0,-5.0,-3.0,3.0,-1.0,4.0,-1.0,5.0,4.0,1.0,5.0,5.0,4.0,-1.0,-3.0,4.0,3.0,-5.0,1.0,-2.0,2.0,2.0,3.0,4.0,2.0,2.0,3.0,-2.0,1.0,1.0,2.0,-4.0,-3.0,-4.0,4.0,-4.0,1.0,3.0,2.0,1.0,-2.0,3.0,-2.0,-2.0,-4.0,4.0,-3.0,-3.0,-1.0,1.0,2.0,-5.0,-1.0,3.0,1.0,-3.0,-4.0,3.0,-2.0,-3.0,-2.0,3.0,3.0,1.0,-4.0,-3.0,-4.0,-1.0,3.0,3.0,2.0,1.0,-3.0,-1.0,2.0,3.0,-3.0,4.0,3.0,2.0,-5.0,-2.0,-2.0,-2.0,5.0,-2.0,1.0,-1.0,-2.0,4.0,-1.0,5.0,-4.0,1.0,5.0,2.0,-3.0,-3.0,4.0,5.0,2.0,1.0,5.0,1.0,-4.0,-2.0,-1.0,3.0,5.0,-3.0,3.0,3.0,-5.0,3.0,4.0,4.0,-4.0,1.0,2.0,-1.0,-3.0,-4.0,-4.0,-4.0,5.0,-2.0,-3.0,2.0,2.0,1.0,-1.0,3.0,-1.0,-1.0,4.0,4.0,-1.0,-2.0,5.0,-3.0,-4.0,4.0,2.0,3.0,4.0,4.0,4.0,-1.0,-5.0,-4.0,-2.0,5.0,4.0,5.0,-3.0,2.0,-4.0,4.0,4.0,-3.0,-2.0,-2.0,4.0,2.0,2.0,5.0,2.0,-2.0,1.0,-4.0,4.0,-4.0,1.0,1.0,-4.0,-3.0,5.0,-1.0,-5.0,-3.0,-2.0,-4.0,-2.0,-5.0,-2.0,4.0,-3.0,5.0,-2.0,2.0,-2.0,1.0,5.0,-5.0,3.0,-3.0,4.0,3.0,-3.0,1.0,-3.0,5.0,-1.0,4.0,4.0,5.0,3.0,-4.0,-2.0,5.0,3.0,-2.0,4.0,3.0,5.0,-5.0,-5.0,4.0,5.0,-5.0,2.0,4.0,-4.0,-1.0,-1.0,3.0,-3.0,4.0,-2.0,2.0,-3.0,-1.0,-2.0,-5.0,-1.0,-2.0,-3.0,-3.0,-2.0,-1.0,4.0,2.0,-2.0,-2.0,4.0,-3.0,-4.0,3.0,3.0,-5.0,5.0,2.0,-4.0,2.0,-5.0,5.0,-3.0,1.0,-2.0,2.0,2.0,3.0,2.0,-5.0,4.0,2.0,-3.0,-3.0,5.0,-2.0,2.0,3.0,-2.0,-4.0,-3.0,-5.0,1.0,-5.0,2.0,-1.0,3.0,-4.0,-2.0,-2.0,-5.0,-2.0,4.0,4.0,-1.0,4.0,3.0,3.0,4.0,4.0,3.0,-4.0,-4.0,1.0,-1.0,-3.0,4.0,4.0,5.0,-3.0,-5.0,2.0,-1.0,2.0,-3.0,1.0,4.0,-3.0,-1.0,4.0,2.0,-2.0,2.0,-3.0,-1.0,2.0,-4.0,4.0,-4.0,-3.0,2.0,2.0,-2.0,-1.0,-4.0,3.0,-1.0,-4.0,-3.0,3.0,-2.0,3.0,5.0,2.0,-3.0,-1.0,-4.0,-2.0,2.0,5.0,-4.0,2.0,3.0,-3.0,-2.0,1.0,-1.0,3.0,-5.0,-2.0,-3.0,4.0,-4.0,3.0,2.0,2.0,3.0,1.0,2.0,3.0,3.0,-2.0,-2.0,5.0,3.0,2.0,-1.0,3.0,2.0,-3.0,-5.0,-3.0,-2.0,1.0,-5.0,-3.0,5.0,-3.0,4.0,-5.0,2.0,4.0,3.0,4.0,-4.0,1.0,-1.0,-4.0,-5.0,4.0,4.0,-2.0,3.0,-4.0,1.0,-5.0,3.0,4.0,-4.0,-4.0,4.0,-5.0,2.0,-1.0,5.0,5.0,-3.0,4.0,4.0,-1.0,-4.0,3.0,-1.0,-2.0,4.0,-4.0,1.0,3.0,2.0,-3.0,-5.0,-1.0,-3.0,3.0,5.0,-5.0,-3.0,-1.0,3.0,-3.0,3.0,5.0,-1.0,-5.0,-3.0,4.0,-1.0,4.0,-2.0,-3.0,-3.0,4.0,5.0,-3.0,-2.0,-5.0,-4.0,-4.0,-3.0,-1.0,-5.0,3.0,-1.0,2.0,3.0,2.0,-1.0,-3.0,1.0,5.0,-3.0,-5.0,-5.0,-3.0,2.0,2.0,4.0,-1.0,-3.0,2.0,-4.0,5.0,-1.0,-5.0,5.0,-5.0,3.0,-1.0,4.0,-3.0,-3.0,4.0,-3.0,1.0,-2.0,-1.0,1.0,-3.0,2.0,-3.0,4.0,1.0,-5.0,3.0,3.0,-3.0,-3.0,-3.0,4.0,3.0,3.0,5.0,-1.0,1.0,3.0,-5.0,-2.0,3.0,4.0,-3.0,4.0,-4.0,-4.0],\"y\":[0.0,1.0,5.0,2.0,1.0,3.0,-1.0,-4.0,3.0,-2.0,-5.0,-2.0,-3.0,-0.0,-1.0,3.0,-4.0,2.0,3.0,1.0,-3.0,-1.0,3.0,-3.0,2.0,0.0,2.0,-3.0,1.0,-2.0,-0.0,2.0,-2.0,-0.0,-0.0,1.0,0.0,-1.0,-1.0,1.0,-0.0,1.0,1.0,1.0,3.0,-2.0,2.0,3.0,-0.0,1.0,-2.0,-3.0,-0.0,-1.0,2.0,0.0,3.0,1.0,4.0,4.0,-2.0,3.0,-2.0,0.0,1.0,1.0,-0.0,0.0,2.0,-1.0,1.0,-0.0,2.0,2.0,0.0,-2.0,0.0,2.0,2.0,-0.0,2.0,-3.0,0.0,-3.0,3.0,1.0,2.0,1.0,0.0,4.0,3.0,0.0,4.0,2.0,-2.0,-1.0,-2.0,1.0,1.0,-3.0,-1.0,-3.0,3.0,-3.0,0.0,2.0,1.0,3.0,0.0,-0.0,1.0,-0.0,-0.0,-2.0,0.0,0.0,0.0,-2.0,-0.0,-1.0,1.0,1.0,-2.0,2.0,3.0,-4.0,1.0,3.0,-3.0,0.0,-1.0,1.0,1.0,-5.0,-0.0,-0.0,2.0,-1.0,-3.0,5.0,-2.0,-2.0,-2.0,2.0,4.0,1.0,-2.0,-1.0,-2.0,-1.0,0.0,-2.0,-2.0,0.0,-3.0,-0.0,1.0,0.0,-1.0,4.0,2.0,-2.0,-4.0,-4.0,-1.0,-1.0,3.0,-3.0,0.0,-0.0,-1.0,1.0,-2.0,2.0,-2.0,0.0,3.0,-1.0,3.0,0.0,2.0,5.0,1.0,2.0,3.0,1.0,-2.0,2.0,-1.0,2.0,2.0,2.0,2.0,4.0,-2.0,3.0,1.0,2.0,-3.0,2.0,2.0,0.0,-2.0,2.0,-3.0,2.0,1.0,-1.0,-1.0,1.0,-1.0,3.0,2.0,2.0,-0.0,-1.0,-1.0,2.0,-0.0,-2.0,3.0,-2.0,-2.0,3.0,3.0,3.0,3.0,2.0,2.0,-0.0,-6.0,-1.0,-1.0,7.0,4.0,1.0,-3.0,3.0,-6.0,3.0,3.0,-1.0,-1.0,-2.0,3.0,5.0,1.0,3.0,2.0,-2.0,1.0,1.0,3.0,-3.0,1.0,2.0,-1.0,-1.0,3.0,-0.0,-2.0,-3.0,-3.0,-3.0,-3.0,-2.0,1.0,1.0,1.0,4.0,-1.0,-1.0,-1.0,1.0,-2.0,-5.0,1.0,-0.0,6.0,2.0,-1.0,4.0,-0.0,4.0,0.0,3.0,-1.0,2.0,4.0,-4.0,-1.0,4.0,3.0,2.0,4.0,4.0,2.0,-4.0,-4.0,4.0,4.0,-6.0,2.0,2.0,-3.0,1.0,-2.0,3.0,-3.0,3.0,0.0,1.0,-1.0,-1.0,1.0,-3.0,1.0,-3.0,-0.0,-5.0,1.0,-3.0,2.0,0.0,1.0,-1.0,5.0,-1.0,-1.0,-0.0,5.0,-3.0,3.0,1.0,-6.0,-1.0,-4.0,4.0,3.0,-1.0,-1.0,3.0,-1.0,-1.0,1.0,-1.0,1.0,1.0,-3.0,-2.0,6.0,-1.0,3.0,-1.0,-1.0,-5.0,-3.0,-4.0,1.0,-3.0,-2.0,1.0,0.0,1.0,-1.0,-3.0,-4.0,1.0,2.0,4.0,0.0,-2.0,2.0,1.0,2.0,-1.0,0.0,-3.0,-1.0,-1.0,-1.0,-3.0,4.0,1.0,4.0,3.0,-5.0,3.0,1.0,1.0,-1.0,1.0,5.0,0.0,-1.0,2.0,2.0,-2.0,1.0,-2.0,2.0,-0.0,-2.0,3.0,-0.0,-0.0,-2.0,3.0,0.0,1.0,-0.0,3.0,-0.0,-3.0,-4.0,2.0,0.0,1.0,5.0,2.0,-2.0,-0.0,-3.0,-0.0,5.0,1.0,2.0,2.0,1.0,-3.0,-2.0,1.0,2.0,3.0,-0.0,-3.0,-3.0,0.0,-2.0,5.0,-0.0,0.0,3.0,-0.0,-2.0,2.0,2.0,-1.0,-1.0,5.0,1.0,3.0,-3.0,0.0,0.0,0.0,-3.0,-2.0,1.0,2.0,-4.0,-1.0,4.0,-5.0,5.0,-3.0,-0.0,0.0,-0.0,-1.0,-3.0,1.0,-3.0,-3.0,-5.0,-1.0,3.0,-2.0,-0.0,-3.0,4.0,-1.0,2.0,3.0,1.0,-1.0,4.0,-1.0,1.0,0.0,3.0,3.0,-2.0,3.0,3.0,0.0,0.0,3.0,-2.0,-2.0,5.0,-3.0,3.0,1.0,3.0,-1.0,-8.0,-0.0,-3.0,-0.0,3.0,-2.0,-3.0,1.0,-0.0,-2.0,1.0,5.0,1.0,-1.0,-2.0,2.0,1.0,5.0,-3.0,1.0,-2.0,2.0,3.0,2.0,-0.0,-3.0,-3.0,-3.0,-1.0,1.0,-5.0,3.0,1.0,1.0,0.0,-1.0,-1.0,-2.0,1.0,2.0,-1.0,0.0,-5.0,0.0,2.0,0.0,5.0,0.0,-0.0,-1.0,-2.0,2.0,0.0,-5.0,1.0,-1.0,1.0,2.0,2.0,-3.0,-2.0,3.0,-2.0,2.0,0.0,-0.0,-2.0,-2.0,0.0,-0.0,3.0,2.0,2.0,2.0,-0.0,0.0,-2.0,-1.0,-0.0,4.0,3.0,3.0,-1.0,-1.0,0.0,0.0,-2.0,3.0,2.0,-1.0,3.0,-1.0,-2.0],\"mode\":\"markers\",\"marker\":{\"opacity\":0.2,\"size\":7}},{\"type\":\"scatter\",\"x\":[-5,5],\"y\":[-5,5]}];\n",
       "            var layout = \"\";\n",
       "            Plotly.newPlot('c6264fa5-ed2a-4d3e-b7a0-81aa1aa87c3a', data, layout);\n",
       "        });\r\n",
       "};\r\n",
       "if ((typeof(requirejs) !==  typeof(Function)) || (typeof(requirejs.config) !== typeof(Function))) { \r\n",
       "    var script = document.createElement(\"script\"); \r\n",
       "    script.setAttribute(\"src\", \"https://cdnjs.cloudflare.com/ajax/libs/require.js/2.3.6/require.min.js\"); \r\n",
       "    script.onload = function(){\r\n",
       "        renderPlotly();\r\n",
       "    };\r\n",
       "    document.getElementsByTagName(\"head\")[0].appendChild(script); \r\n",
       "}\r\n",
       "else {\r\n",
       "    renderPlotly();\r\n",
       "}\r\n",
       "</script>"
      ]
     },
     "metadata": {},
     "output_type": "display_data"
    }
   ],
   "source": [
    "var predictions = new List<(float, float)>();\n",
    "\n",
    "var data = tablesoccerData;\n",
    "\n",
    "for (int i=0; i < data.Rows.Count; i++)\n",
    "{\n",
    "    var game = new Game()\n",
    "    {\n",
    "        Team1GoalKeeper = (string)data[\"Team1GoalKeeper\"][i],\n",
    "        Team1Striker = (string)data[\"Team1Striker\"][i],\n",
    "        Team2GoalKeeper = (string)data[\"Team2GoalKeeper\"][i],\n",
    "        Team2Striker = (string)data[\"Team2Striker\"][i],\n",
    "    };\n",
    "    \n",
    "    var result = (float)data[\"GoalDifference\"][i];\n",
    "    var prediction = predictionEngine.Predict(game);\n",
    "    \n",
    "    predictions.Add((result, prediction.Score));\n",
    "}\n",
    "\n",
    "var predictionTrace = new Graph.Scatter()\n",
    "                        {\n",
    "                            x = predictions.Select(p => p.Item1).ToList(),\n",
    "                            y = predictions.Select(p => Math.Round(p.Item2)).ToList(),\n",
    "                            //z = predictions.Select((p, index) => index).ToList(),\n",
    "                            mode = \"markers\",\n",
    "                            marker = new Graph.Marker()\n",
    "                            {\n",
    "                                size = 7,\n",
    "                                opacity = 0.2\n",
    "                            }\n",
    "                        };\n",
    "\n",
    "var correctTrace = new Graph.Scatter()\n",
    "    {\n",
    "        x = new int[] { -5, 5 },\n",
    "        y = new int[] { -5, 5 }\n",
    "    };\n",
    "\n",
    "display(Chart.Plot(new [] { predictionTrace, correctTrace }));\n"
   ]
  }
 ],
 "metadata": {
  "kernelspec": {
   "display_name": ".NET (C#)",
   "language": "C#",
   "name": ".net-csharp"
  },
  "language_info": {
   "file_extension": ".cs",
   "mimetype": "text/x-csharp",
   "name": "C#",
   "pygments_lexer": "csharp",
   "version": "8.0"
  }
 },
 "nbformat": 4,
 "nbformat_minor": 2
}
